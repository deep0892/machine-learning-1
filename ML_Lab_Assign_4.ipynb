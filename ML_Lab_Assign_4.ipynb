{
 "cells": [
  {
   "cell_type": "code",
   "execution_count": null,
   "metadata": {
    "colab": {
     "base_uri": "https://localhost:8080/",
     "height": 72,
     "resources": {
      "http://localhost:8080/nbextensions/google.colab/files.js": {
       "data": "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",
       "headers": [
        [
         "content-type",
         "application/javascript"
        ]
       ],
       "ok": true,
       "status": 200,
       "status_text": ""
      }
     }
    },
    "id": "tb7gI6QZe4C1",
    "outputId": "41d14165-e3e1-4fa8-a90b-980b798d1316"
   },
   "outputs": [],
   "source": [
    "from google.colab import files \n",
    "uploaded = files.upload()"
   ]
  },
  {
   "cell_type": "code",
   "execution_count": null,
   "metadata": {
    "colab": {
     "base_uri": "https://localhost:8080/",
     "height": 270
    },
    "id": "rU2Ok6YBffOU",
    "outputId": "61fd9984-a2fc-4dd1-9391-41f8ab6df2d7"
   },
   "outputs": [],
   "source": [
    "\n",
    "from sklearn.linear_model import LogisticRegressionCV\n",
    "from sklearn.model_selection import GridSearchCV\n",
    "from sklearn.model_selection import cross_val_score\n",
    "from sklearn.model_selection import cross_val_predict\n",
    "from sklearn.model_selection import train_test_split\n",
    "from sklearn.preprocessing import StandardScaler\n",
    "from sklearn.metrics import confusion_matrix\n",
    "from sklearn.metrics import accuracy_score\n",
    "import pandas as pd \n",
    "import io \n",
    "  \n",
    "data = pd.read_csv('lab4.csv') \n",
    "data.head()"
   ]
  },
  {
   "cell_type": "code",
   "execution_count": null,
   "metadata": {
    "colab": {
     "base_uri": "https://localhost:8080/"
    },
    "id": "yFp59knhiLfu",
    "outputId": "963954fa-e9da-42f1-8e31-d78c9a22a3f8"
   },
   "outputs": [],
   "source": [
    "data.info()"
   ]
  },
  {
   "cell_type": "code",
   "execution_count": 7,
   "metadata": {
    "colab": {
     "base_uri": "https://localhost:8080/",
     "height": 346
    },
    "id": "zOULLrfwkxxD",
    "outputId": "987f762a-191c-4296-d038-b92a653a5d30"
   },
   "outputs": [
    {
     "data": {
      "text/html": [
       "<div>\n",
       "<style scoped>\n",
       "    .dataframe tbody tr th:only-of-type {\n",
       "        vertical-align: middle;\n",
       "    }\n",
       "\n",
       "    .dataframe tbody tr th {\n",
       "        vertical-align: top;\n",
       "    }\n",
       "\n",
       "    .dataframe thead th {\n",
       "        text-align: right;\n",
       "    }\n",
       "</style>\n",
       "<table border=\"1\" class=\"dataframe\">\n",
       "  <thead>\n",
       "    <tr style=\"text-align: right;\">\n",
       "      <th></th>\n",
       "      <th>Unnamed: 0</th>\n",
       "      <th>0</th>\n",
       "      <th>1</th>\n",
       "      <th>2</th>\n",
       "      <th>3</th>\n",
       "      <th>4</th>\n",
       "      <th>5</th>\n",
       "      <th>6</th>\n",
       "      <th>7</th>\n",
       "      <th>8</th>\n",
       "      <th>...</th>\n",
       "      <th>f9</th>\n",
       "      <th>fa</th>\n",
       "      <th>fb</th>\n",
       "      <th>fc</th>\n",
       "      <th>fd</th>\n",
       "      <th>fe</th>\n",
       "      <th>ff</th>\n",
       "      <th>??</th>\n",
       "      <th>size</th>\n",
       "      <th>Class</th>\n",
       "    </tr>\n",
       "  </thead>\n",
       "  <tbody>\n",
       "    <tr>\n",
       "      <th>count</th>\n",
       "      <td>10868.000000</td>\n",
       "      <td>1.086800e+04</td>\n",
       "      <td>10868.000000</td>\n",
       "      <td>1.086800e+04</td>\n",
       "      <td>1.086800e+04</td>\n",
       "      <td>1.086800e+04</td>\n",
       "      <td>1.086800e+04</td>\n",
       "      <td>1.086800e+04</td>\n",
       "      <td>1.086800e+04</td>\n",
       "      <td>1.086800e+04</td>\n",
       "      <td>...</td>\n",
       "      <td>10868.000000</td>\n",
       "      <td>10868.000000</td>\n",
       "      <td>10868.000000</td>\n",
       "      <td>10868.000000</td>\n",
       "      <td>10868.000000</td>\n",
       "      <td>10868.000000</td>\n",
       "      <td>10868.000000</td>\n",
       "      <td>1.086800e+04</td>\n",
       "      <td>10868.000000</td>\n",
       "      <td>10868.000000</td>\n",
       "    </tr>\n",
       "    <tr>\n",
       "      <th>mean</th>\n",
       "      <td>5433.500000</td>\n",
       "      <td>5.412632e+04</td>\n",
       "      <td>8076.913876</td>\n",
       "      <td>1.002482e+04</td>\n",
       "      <td>7.096159e+03</td>\n",
       "      <td>8.952651e+03</td>\n",
       "      <td>4.358067e+03</td>\n",
       "      <td>7.718305e+03</td>\n",
       "      <td>3.839658e+03</td>\n",
       "      <td>5.029475e+03</td>\n",
       "      <td>...</td>\n",
       "      <td>2003.397129</td>\n",
       "      <td>2240.809993</td>\n",
       "      <td>1792.368513</td>\n",
       "      <td>3269.539750</td>\n",
       "      <td>2374.210986</td>\n",
       "      <td>3066.739510</td>\n",
       "      <td>15793.226077</td>\n",
       "      <td>4.986941e+05</td>\n",
       "      <td>3.769535</td>\n",
       "      <td>4.017851</td>\n",
       "    </tr>\n",
       "    <tr>\n",
       "      <th>std</th>\n",
       "      <td>3137.465697</td>\n",
       "      <td>1.011696e+05</td>\n",
       "      <td>19019.471235</td>\n",
       "      <td>5.078501e+04</td>\n",
       "      <td>2.836619e+04</td>\n",
       "      <td>5.546638e+04</td>\n",
       "      <td>2.542380e+04</td>\n",
       "      <td>5.322195e+04</td>\n",
       "      <td>1.655496e+04</td>\n",
       "      <td>1.970269e+04</td>\n",
       "      <td>...</td>\n",
       "      <td>7593.041452</td>\n",
       "      <td>9265.912957</td>\n",
       "      <td>5599.736544</td>\n",
       "      <td>3664.695393</td>\n",
       "      <td>7853.044764</td>\n",
       "      <td>5036.446951</td>\n",
       "      <td>22896.046205</td>\n",
       "      <td>7.203975e+05</td>\n",
       "      <td>3.012936</td>\n",
       "      <td>2.684621</td>\n",
       "    </tr>\n",
       "    <tr>\n",
       "      <th>min</th>\n",
       "      <td>0.000000</td>\n",
       "      <td>0.000000e+00</td>\n",
       "      <td>0.000000</td>\n",
       "      <td>0.000000e+00</td>\n",
       "      <td>0.000000e+00</td>\n",
       "      <td>0.000000e+00</td>\n",
       "      <td>0.000000e+00</td>\n",
       "      <td>0.000000e+00</td>\n",
       "      <td>0.000000e+00</td>\n",
       "      <td>0.000000e+00</td>\n",
       "      <td>...</td>\n",
       "      <td>0.000000</td>\n",
       "      <td>0.000000</td>\n",
       "      <td>0.000000</td>\n",
       "      <td>0.000000</td>\n",
       "      <td>0.000000</td>\n",
       "      <td>0.000000</td>\n",
       "      <td>0.000000</td>\n",
       "      <td>0.000000e+00</td>\n",
       "      <td>0.090744</td>\n",
       "      <td>1.000000</td>\n",
       "    </tr>\n",
       "    <tr>\n",
       "      <th>25%</th>\n",
       "      <td>2716.750000</td>\n",
       "      <td>1.125700e+04</td>\n",
       "      <td>1140.000000</td>\n",
       "      <td>6.570000e+02</td>\n",
       "      <td>6.910000e+02</td>\n",
       "      <td>8.967500e+02</td>\n",
       "      <td>5.560000e+02</td>\n",
       "      <td>4.390000e+02</td>\n",
       "      <td>4.840000e+02</td>\n",
       "      <td>8.165000e+02</td>\n",
       "      <td>...</td>\n",
       "      <td>331.000000</td>\n",
       "      <td>297.000000</td>\n",
       "      <td>316.000000</td>\n",
       "      <td>670.000000</td>\n",
       "      <td>343.000000</td>\n",
       "      <td>467.750000</td>\n",
       "      <td>3139.750000</td>\n",
       "      <td>8.901000e+03</td>\n",
       "      <td>0.705811</td>\n",
       "      <td>2.000000</td>\n",
       "    </tr>\n",
       "    <tr>\n",
       "      <th>50%</th>\n",
       "      <td>5433.500000</td>\n",
       "      <td>2.182000e+04</td>\n",
       "      <td>4211.000000</td>\n",
       "      <td>3.053500e+03</td>\n",
       "      <td>3.075000e+03</td>\n",
       "      <td>3.139000e+03</td>\n",
       "      <td>2.539000e+03</td>\n",
       "      <td>2.729000e+03</td>\n",
       "      <td>2.399500e+03</td>\n",
       "      <td>3.169500e+03</td>\n",
       "      <td>...</td>\n",
       "      <td>803.000000</td>\n",
       "      <td>701.000000</td>\n",
       "      <td>760.000000</td>\n",
       "      <td>2577.000000</td>\n",
       "      <td>836.000000</td>\n",
       "      <td>2402.000000</td>\n",
       "      <td>6844.500000</td>\n",
       "      <td>1.729600e+04</td>\n",
       "      <td>3.521769</td>\n",
       "      <td>3.000000</td>\n",
       "    </tr>\n",
       "    <tr>\n",
       "      <th>75%</th>\n",
       "      <td>8150.250000</td>\n",
       "      <td>6.079300e+04</td>\n",
       "      <td>7313.250000</td>\n",
       "      <td>3.901500e+03</td>\n",
       "      <td>3.662000e+03</td>\n",
       "      <td>4.291750e+03</td>\n",
       "      <td>3.335000e+03</td>\n",
       "      <td>3.309000e+03</td>\n",
       "      <td>3.295000e+03</td>\n",
       "      <td>4.697750e+03</td>\n",
       "      <td>...</td>\n",
       "      <td>3100.000000</td>\n",
       "      <td>3102.000000</td>\n",
       "      <td>3103.000000</td>\n",
       "      <td>3273.000000</td>\n",
       "      <td>3142.000000</td>\n",
       "      <td>3243.000000</td>\n",
       "      <td>16550.500000</td>\n",
       "      <td>1.490076e+06</td>\n",
       "      <td>6.842773</td>\n",
       "      <td>6.000000</td>\n",
       "    </tr>\n",
       "    <tr>\n",
       "      <th>max</th>\n",
       "      <td>10867.000000</td>\n",
       "      <td>2.290304e+06</td>\n",
       "      <td>710311.000000</td>\n",
       "      <td>1.797398e+06</td>\n",
       "      <td>1.853743e+06</td>\n",
       "      <td>1.633527e+06</td>\n",
       "      <td>1.766915e+06</td>\n",
       "      <td>1.773856e+06</td>\n",
       "      <td>1.086639e+06</td>\n",
       "      <td>1.123828e+06</td>\n",
       "      <td>...</td>\n",
       "      <td>228692.000000</td>\n",
       "      <td>244977.000000</td>\n",
       "      <td>227158.000000</td>\n",
       "      <td>86938.000000</td>\n",
       "      <td>213004.000000</td>\n",
       "      <td>192296.000000</td>\n",
       "      <td>733486.000000</td>\n",
       "      <td>1.416540e+07</td>\n",
       "      <td>45.028320</td>\n",
       "      <td>9.000000</td>\n",
       "    </tr>\n",
       "  </tbody>\n",
       "</table>\n",
       "<p>8 rows × 260 columns</p>\n",
       "</div>"
      ],
      "text/plain": [
       "         Unnamed: 0             0              1             2             3  \\\n",
       "count  10868.000000  1.086800e+04   10868.000000  1.086800e+04  1.086800e+04   \n",
       "mean    5433.500000  5.412632e+04    8076.913876  1.002482e+04  7.096159e+03   \n",
       "std     3137.465697  1.011696e+05   19019.471235  5.078501e+04  2.836619e+04   \n",
       "min        0.000000  0.000000e+00       0.000000  0.000000e+00  0.000000e+00   \n",
       "25%     2716.750000  1.125700e+04    1140.000000  6.570000e+02  6.910000e+02   \n",
       "50%     5433.500000  2.182000e+04    4211.000000  3.053500e+03  3.075000e+03   \n",
       "75%     8150.250000  6.079300e+04    7313.250000  3.901500e+03  3.662000e+03   \n",
       "max    10867.000000  2.290304e+06  710311.000000  1.797398e+06  1.853743e+06   \n",
       "\n",
       "                  4             5             6             7             8  \\\n",
       "count  1.086800e+04  1.086800e+04  1.086800e+04  1.086800e+04  1.086800e+04   \n",
       "mean   8.952651e+03  4.358067e+03  7.718305e+03  3.839658e+03  5.029475e+03   \n",
       "std    5.546638e+04  2.542380e+04  5.322195e+04  1.655496e+04  1.970269e+04   \n",
       "min    0.000000e+00  0.000000e+00  0.000000e+00  0.000000e+00  0.000000e+00   \n",
       "25%    8.967500e+02  5.560000e+02  4.390000e+02  4.840000e+02  8.165000e+02   \n",
       "50%    3.139000e+03  2.539000e+03  2.729000e+03  2.399500e+03  3.169500e+03   \n",
       "75%    4.291750e+03  3.335000e+03  3.309000e+03  3.295000e+03  4.697750e+03   \n",
       "max    1.633527e+06  1.766915e+06  1.773856e+06  1.086639e+06  1.123828e+06   \n",
       "\n",
       "       ...             f9             fa             fb            fc  \\\n",
       "count  ...   10868.000000   10868.000000   10868.000000  10868.000000   \n",
       "mean   ...    2003.397129    2240.809993    1792.368513   3269.539750   \n",
       "std    ...    7593.041452    9265.912957    5599.736544   3664.695393   \n",
       "min    ...       0.000000       0.000000       0.000000      0.000000   \n",
       "25%    ...     331.000000     297.000000     316.000000    670.000000   \n",
       "50%    ...     803.000000     701.000000     760.000000   2577.000000   \n",
       "75%    ...    3100.000000    3102.000000    3103.000000   3273.000000   \n",
       "max    ...  228692.000000  244977.000000  227158.000000  86938.000000   \n",
       "\n",
       "                  fd             fe             ff            ??  \\\n",
       "count   10868.000000   10868.000000   10868.000000  1.086800e+04   \n",
       "mean     2374.210986    3066.739510   15793.226077  4.986941e+05   \n",
       "std      7853.044764    5036.446951   22896.046205  7.203975e+05   \n",
       "min         0.000000       0.000000       0.000000  0.000000e+00   \n",
       "25%       343.000000     467.750000    3139.750000  8.901000e+03   \n",
       "50%       836.000000    2402.000000    6844.500000  1.729600e+04   \n",
       "75%      3142.000000    3243.000000   16550.500000  1.490076e+06   \n",
       "max    213004.000000  192296.000000  733486.000000  1.416540e+07   \n",
       "\n",
       "               size         Class  \n",
       "count  10868.000000  10868.000000  \n",
       "mean       3.769535      4.017851  \n",
       "std        3.012936      2.684621  \n",
       "min        0.090744      1.000000  \n",
       "25%        0.705811      2.000000  \n",
       "50%        3.521769      3.000000  \n",
       "75%        6.842773      6.000000  \n",
       "max       45.028320      9.000000  \n",
       "\n",
       "[8 rows x 260 columns]"
      ]
     },
     "execution_count": 7,
     "metadata": {},
     "output_type": "execute_result"
    }
   ],
   "source": [
    "data.describe()"
   ]
  },
  {
   "cell_type": "code",
   "execution_count": 8,
   "metadata": {
    "colab": {
     "base_uri": "https://localhost:8080/",
     "height": 253
    },
    "id": "a-EnOkRQk0ne",
    "outputId": "d622be40-3571-42c5-b057-e5f99407494d"
   },
   "outputs": [
    {
     "data": {
      "text/html": [
       "<div>\n",
       "<style scoped>\n",
       "    .dataframe tbody tr th:only-of-type {\n",
       "        vertical-align: middle;\n",
       "    }\n",
       "\n",
       "    .dataframe tbody tr th {\n",
       "        vertical-align: top;\n",
       "    }\n",
       "\n",
       "    .dataframe thead th {\n",
       "        text-align: right;\n",
       "    }\n",
       "</style>\n",
       "<table border=\"1\" class=\"dataframe\">\n",
       "  <thead>\n",
       "    <tr style=\"text-align: right;\">\n",
       "      <th></th>\n",
       "      <th>0</th>\n",
       "      <th>1</th>\n",
       "      <th>2</th>\n",
       "      <th>3</th>\n",
       "      <th>4</th>\n",
       "      <th>5</th>\n",
       "      <th>6</th>\n",
       "      <th>7</th>\n",
       "      <th>8</th>\n",
       "      <th>9</th>\n",
       "      <th>...</th>\n",
       "      <th>f9</th>\n",
       "      <th>fa</th>\n",
       "      <th>fb</th>\n",
       "      <th>fc</th>\n",
       "      <th>fd</th>\n",
       "      <th>fe</th>\n",
       "      <th>ff</th>\n",
       "      <th>??</th>\n",
       "      <th>size</th>\n",
       "      <th>Class</th>\n",
       "    </tr>\n",
       "  </thead>\n",
       "  <tbody>\n",
       "    <tr>\n",
       "      <th>0</th>\n",
       "      <td>601905</td>\n",
       "      <td>3905</td>\n",
       "      <td>2816</td>\n",
       "      <td>3832</td>\n",
       "      <td>3345</td>\n",
       "      <td>3242</td>\n",
       "      <td>3650</td>\n",
       "      <td>3201</td>\n",
       "      <td>2965</td>\n",
       "      <td>3205</td>\n",
       "      <td>...</td>\n",
       "      <td>3101</td>\n",
       "      <td>3211</td>\n",
       "      <td>3097</td>\n",
       "      <td>2758</td>\n",
       "      <td>3099</td>\n",
       "      <td>2759</td>\n",
       "      <td>5753</td>\n",
       "      <td>1824</td>\n",
       "      <td>4.234863</td>\n",
       "      <td>9</td>\n",
       "    </tr>\n",
       "    <tr>\n",
       "      <th>1</th>\n",
       "      <td>39755</td>\n",
       "      <td>8337</td>\n",
       "      <td>7249</td>\n",
       "      <td>7186</td>\n",
       "      <td>8663</td>\n",
       "      <td>6844</td>\n",
       "      <td>8420</td>\n",
       "      <td>7589</td>\n",
       "      <td>9291</td>\n",
       "      <td>358</td>\n",
       "      <td>...</td>\n",
       "      <td>439</td>\n",
       "      <td>281</td>\n",
       "      <td>302</td>\n",
       "      <td>7639</td>\n",
       "      <td>518</td>\n",
       "      <td>17001</td>\n",
       "      <td>54902</td>\n",
       "      <td>8588</td>\n",
       "      <td>5.538818</td>\n",
       "      <td>2</td>\n",
       "    </tr>\n",
       "    <tr>\n",
       "      <th>2</th>\n",
       "      <td>93506</td>\n",
       "      <td>9542</td>\n",
       "      <td>2568</td>\n",
       "      <td>2438</td>\n",
       "      <td>8925</td>\n",
       "      <td>9330</td>\n",
       "      <td>9007</td>\n",
       "      <td>2342</td>\n",
       "      <td>9107</td>\n",
       "      <td>2457</td>\n",
       "      <td>...</td>\n",
       "      <td>2242</td>\n",
       "      <td>2885</td>\n",
       "      <td>2863</td>\n",
       "      <td>2471</td>\n",
       "      <td>2786</td>\n",
       "      <td>2680</td>\n",
       "      <td>49144</td>\n",
       "      <td>468</td>\n",
       "      <td>3.887939</td>\n",
       "      <td>9</td>\n",
       "    </tr>\n",
       "    <tr>\n",
       "      <th>3</th>\n",
       "      <td>21091</td>\n",
       "      <td>1213</td>\n",
       "      <td>726</td>\n",
       "      <td>817</td>\n",
       "      <td>1257</td>\n",
       "      <td>625</td>\n",
       "      <td>550</td>\n",
       "      <td>523</td>\n",
       "      <td>1078</td>\n",
       "      <td>473</td>\n",
       "      <td>...</td>\n",
       "      <td>485</td>\n",
       "      <td>462</td>\n",
       "      <td>516</td>\n",
       "      <td>1133</td>\n",
       "      <td>471</td>\n",
       "      <td>761</td>\n",
       "      <td>7998</td>\n",
       "      <td>13940</td>\n",
       "      <td>0.574219</td>\n",
       "      <td>1</td>\n",
       "    </tr>\n",
       "    <tr>\n",
       "      <th>4</th>\n",
       "      <td>19764</td>\n",
       "      <td>710</td>\n",
       "      <td>302</td>\n",
       "      <td>433</td>\n",
       "      <td>559</td>\n",
       "      <td>410</td>\n",
       "      <td>262</td>\n",
       "      <td>249</td>\n",
       "      <td>422</td>\n",
       "      <td>223</td>\n",
       "      <td>...</td>\n",
       "      <td>350</td>\n",
       "      <td>209</td>\n",
       "      <td>239</td>\n",
       "      <td>653</td>\n",
       "      <td>221</td>\n",
       "      <td>242</td>\n",
       "      <td>2199</td>\n",
       "      <td>9008</td>\n",
       "      <td>0.370850</td>\n",
       "      <td>8</td>\n",
       "    </tr>\n",
       "  </tbody>\n",
       "</table>\n",
       "<p>5 rows × 259 columns</p>\n",
       "</div>"
      ],
      "text/plain": [
       "        0     1     2     3     4     5     6     7     8     9  ...    f9  \\\n",
       "0  601905  3905  2816  3832  3345  3242  3650  3201  2965  3205  ...  3101   \n",
       "1   39755  8337  7249  7186  8663  6844  8420  7589  9291   358  ...   439   \n",
       "2   93506  9542  2568  2438  8925  9330  9007  2342  9107  2457  ...  2242   \n",
       "3   21091  1213   726   817  1257   625   550   523  1078   473  ...   485   \n",
       "4   19764   710   302   433   559   410   262   249   422   223  ...   350   \n",
       "\n",
       "     fa    fb    fc    fd     fe     ff     ??      size  Class  \n",
       "0  3211  3097  2758  3099   2759   5753   1824  4.234863      9  \n",
       "1   281   302  7639   518  17001  54902   8588  5.538818      2  \n",
       "2  2885  2863  2471  2786   2680  49144    468  3.887939      9  \n",
       "3   462   516  1133   471    761   7998  13940  0.574219      1  \n",
       "4   209   239   653   221    242   2199   9008  0.370850      8  \n",
       "\n",
       "[5 rows x 259 columns]"
      ]
     },
     "execution_count": 8,
     "metadata": {},
     "output_type": "execute_result"
    }
   ],
   "source": [
    "data = data.drop([\"ID\"], axis=1) \n",
    "data = data.drop([\"Unnamed: 0\"], axis=1) \n",
    "data.head()"
   ]
  },
  {
   "cell_type": "code",
   "execution_count": 9,
   "metadata": {
    "colab": {
     "base_uri": "https://localhost:8080/",
     "height": 98
    },
    "id": "idvz4lxplCPa",
    "outputId": "7948d3cc-d767-41ce-e7fa-252ec61e722e"
   },
   "outputs": [
    {
     "data": {
      "text/html": [
       "<div>\n",
       "<style scoped>\n",
       "    .dataframe tbody tr th:only-of-type {\n",
       "        vertical-align: middle;\n",
       "    }\n",
       "\n",
       "    .dataframe tbody tr th {\n",
       "        vertical-align: top;\n",
       "    }\n",
       "\n",
       "    .dataframe thead th {\n",
       "        text-align: right;\n",
       "    }\n",
       "</style>\n",
       "<table border=\"1\" class=\"dataframe\">\n",
       "  <thead>\n",
       "    <tr style=\"text-align: right;\">\n",
       "      <th></th>\n",
       "      <th>0</th>\n",
       "      <th>1</th>\n",
       "      <th>2</th>\n",
       "      <th>3</th>\n",
       "      <th>4</th>\n",
       "      <th>5</th>\n",
       "      <th>6</th>\n",
       "      <th>7</th>\n",
       "      <th>8</th>\n",
       "      <th>9</th>\n",
       "      <th>...</th>\n",
       "      <th>f9</th>\n",
       "      <th>fa</th>\n",
       "      <th>fb</th>\n",
       "      <th>fc</th>\n",
       "      <th>fd</th>\n",
       "      <th>fe</th>\n",
       "      <th>ff</th>\n",
       "      <th>??</th>\n",
       "      <th>size</th>\n",
       "      <th>Class</th>\n",
       "    </tr>\n",
       "  </thead>\n",
       "  <tbody>\n",
       "  </tbody>\n",
       "</table>\n",
       "<p>0 rows × 259 columns</p>\n",
       "</div>"
      ],
      "text/plain": [
       "Empty DataFrame\n",
       "Columns: [0, 1, 2, 3, 4, 5, 6, 7, 8, 9, 0a, 0b, 0c, 0d, 0e, 0f, 10, 11, 12, 13, 14, 15, 16, 17, 18, 19, 1a, 1b, 1c, 1d, 1e, 1f, 20, 21, 22, 23, 24, 25, 26, 27, 28, 29, 2a, 2b, 2c, 2d, 2e, 2f, 30, 31, 32, 33, 34, 35, 36, 37, 38, 39, 3a, 3b, 3c, 3d, 3e, 3f, 40, 41, 42, 43, 44, 45, 46, 47, 48, 49, 4a, 4b, 4c, 4d, 4e, 4f, 50, 51, 52, 53, 54, 55, 56, 57, 58, 59, 5a, 5b, 5c, 5d, 5e, 5f, 60, 61, 62, 63, ...]\n",
       "Index: []\n",
       "\n",
       "[0 rows x 259 columns]"
      ]
     },
     "execution_count": 9,
     "metadata": {},
     "output_type": "execute_result"
    }
   ],
   "source": [
    "# contains no null values\n",
    "incomplete_rows = data[data.isnull().any(axis=1)].head()\n",
    "incomplete_rows"
   ]
  },
  {
   "cell_type": "code",
   "execution_count": 10,
   "metadata": {
    "colab": {
     "base_uri": "https://localhost:8080/"
    },
    "id": "HVflU2kAlLCf",
    "outputId": "1ca058f3-8e11-4047-a3bb-ce29b9ad1f82"
   },
   "outputs": [
    {
     "data": {
      "text/plain": [
       "3    2942\n",
       "2    2478\n",
       "1    1541\n",
       "8    1228\n",
       "9    1013\n",
       "6     751\n",
       "4     475\n",
       "7     398\n",
       "5      42\n",
       "Name: Class, dtype: int64"
      ]
     },
     "execution_count": 10,
     "metadata": {},
     "output_type": "execute_result"
    }
   ],
   "source": [
    "data[\"Class\"].value_counts()"
   ]
  },
  {
   "cell_type": "code",
   "execution_count": 11,
   "metadata": {
    "colab": {
     "base_uri": "https://localhost:8080/"
    },
    "id": "0G-fHRmplbBm",
    "outputId": "bb789c7b-f4da-4c38-c648-03188c093b91"
   },
   "outputs": [
    {
     "name": "stdout",
     "output_type": "stream",
     "text": [
      "Train input size  (8694, 258)\n",
      "Test input size  (2174, 258)\n",
      "Train output size  (8694,)\n",
      "Test output size  (2174,)\n"
     ]
    }
   ],
   "source": [
    "# Use stratified sampling to create an 80-20 train-test split\n",
    "feature = data.drop(['Class'], axis = 1)\n",
    "target = data['Class']\n",
    "\n",
    "# spliting data 20% to test and rest to train\n",
    "train_data_i,test_data_i, train_data_o, test_data_o = train_test_split(feature, target, test_size = 0.2,stratify = target, random_state = 42)\n",
    "print('Train input size ', train_data_i.shape)\n",
    "print('Test input size ', test_data_i.shape)\n",
    "print('Train output size ', train_data_o.shape)\n",
    "print('Test output size ', test_data_o.shape)"
   ]
  },
  {
   "cell_type": "code",
   "execution_count": 12,
   "metadata": {
    "colab": {
     "base_uri": "https://localhost:8080/"
    },
    "id": "wwEk7BN7lm0Q",
    "outputId": "fc2b1dd3-bf4b-4ae5-bab9-546019a68567"
   },
   "outputs": [
    {
     "data": {
      "text/plain": [
       "3733    8\n",
       "2280    8\n",
       "1845    2\n",
       "7694    6\n",
       "8128    3\n",
       "Name: Class, dtype: int64"
      ]
     },
     "execution_count": 12,
     "metadata": {},
     "output_type": "execute_result"
    }
   ],
   "source": [
    "train_data_o.head()"
   ]
  },
  {
   "cell_type": "code",
   "execution_count": 13,
   "metadata": {
    "id": "mDEZEInTmoc6"
   },
   "outputs": [],
   "source": [
    "#standdardize the data\n",
    "scale = StandardScaler().fit(train_data_i)\n",
    "train_data_i = scale.transform(train_data_i)\n",
    "test_data_i = scale.transform(test_data_i)"
   ]
  },
  {
   "cell_type": "code",
   "execution_count": 14,
   "metadata": {
    "colab": {
     "base_uri": "https://localhost:8080/"
    },
    "id": "hgdLQeG-nQrz",
    "outputId": "22a55119-9997-44eb-c7fb-5750e7bc928c"
   },
   "outputs": [
    {
     "data": {
      "text/plain": [
       "array([[-0.33652224, -0.38883088, -0.18929193, ..., -0.5872835 ,\n",
       "        -0.6793142 , -1.1285937 ],\n",
       "       [-0.03491896, -0.33576001, -0.17334224, ..., -0.38776342,\n",
       "        -0.67935855, -1.06127222],\n",
       "       [-0.10235753,  0.0931812 , -0.0247202 , ...,  1.8221795 ,\n",
       "        -0.67505114,  1.28705957],\n",
       "       ...,\n",
       "       [-0.27244919, -0.31193873, -0.17487059, ..., -0.3363354 ,\n",
       "        -0.64157868, -1.03355161],\n",
       "       [-0.04798623,  0.38794324,  0.20053477, ...,  2.01546458,\n",
       "        -0.67562768,  1.10489555],\n",
       "       [-0.41902173, -0.14355598, -0.13284102, ..., -0.38724742,\n",
       "         1.3818258 ,  1.01777363]])"
      ]
     },
     "execution_count": 14,
     "metadata": {},
     "output_type": "execute_result"
    }
   ],
   "source": [
    "train_data_i"
   ]
  },
  {
   "cell_type": "code",
   "execution_count": 15,
   "metadata": {
    "colab": {
     "base_uri": "https://localhost:8080/"
    },
    "id": "flfKmFscqUHU",
    "outputId": "88941212-5ff2-422b-f3d3-85eb00ba4ba1"
   },
   "outputs": [
    {
     "name": "stderr",
     "output_type": "stream",
     "text": [
      "ERROR:root:Internal Python error in the inspect module.\n",
      "Below is the traceback from this internal error.\n",
      "\n"
     ]
    },
    {
     "name": "stdout",
     "output_type": "stream",
     "text": [
      "Traceback (most recent call last):\n",
      "  File \"/Users/deepankarsingh/opt/anaconda3/lib/python3.7/site-packages/IPython/core/interactiveshell.py\", line 3331, in run_code\n",
      "  File \"<ipython-input-15-849716200de5>\", line 15, in <module>\n",
      "    l1_best_train_score = np.mean(cross_val_score(l1_reg,train_data_i,train_data_o,cv=3,scoring=\"accuracy\"))\n",
      "  File \"/Users/deepankarsingh/opt/anaconda3/lib/python3.7/site-packages/sklearn/model_selection/_validation.py\", line 390, in cross_val_score\n",
      "    error_score=error_score)\n",
      "  File \"/Users/deepankarsingh/opt/anaconda3/lib/python3.7/site-packages/sklearn/model_selection/_validation.py\", line 236, in cross_validate\n",
      "    for train, test in cv.split(X, y, groups))\n",
      "  File \"/Users/deepankarsingh/opt/anaconda3/lib/python3.7/site-packages/joblib/parallel.py\", line 1007, in __call__\n",
      "    while self.dispatch_one_batch(iterator):\n",
      "  File \"/Users/deepankarsingh/opt/anaconda3/lib/python3.7/site-packages/joblib/parallel.py\", line 835, in dispatch_one_batch\n",
      "    self._dispatch(tasks)\n",
      "  File \"/Users/deepankarsingh/opt/anaconda3/lib/python3.7/site-packages/joblib/parallel.py\", line 754, in _dispatch\n",
      "    job = self._backend.apply_async(batch, callback=cb)\n",
      "  File \"/Users/deepankarsingh/opt/anaconda3/lib/python3.7/site-packages/joblib/_parallel_backends.py\", line 209, in apply_async\n",
      "    result = ImmediateResult(func)\n",
      "  File \"/Users/deepankarsingh/opt/anaconda3/lib/python3.7/site-packages/joblib/_parallel_backends.py\", line 590, in __init__\n",
      "    self.results = batch()\n",
      "  File \"/Users/deepankarsingh/opt/anaconda3/lib/python3.7/site-packages/joblib/parallel.py\", line 256, in __call__\n",
      "    for func, args, kwargs in self.items]\n",
      "  File \"/Users/deepankarsingh/opt/anaconda3/lib/python3.7/site-packages/joblib/parallel.py\", line 256, in <listcomp>\n",
      "    for func, args, kwargs in self.items]\n",
      "  File \"/Users/deepankarsingh/opt/anaconda3/lib/python3.7/site-packages/sklearn/model_selection/_validation.py\", line 515, in _fit_and_score\n",
      "    estimator.fit(X_train, y_train, **fit_params)\n",
      "  File \"/Users/deepankarsingh/opt/anaconda3/lib/python3.7/site-packages/sklearn/linear_model/_logistic.py\", line 2085, in fit\n",
      "    for label in iter_encoded_labels\n",
      "  File \"/Users/deepankarsingh/opt/anaconda3/lib/python3.7/site-packages/joblib/parallel.py\", line 1007, in __call__\n",
      "    while self.dispatch_one_batch(iterator):\n",
      "  File \"/Users/deepankarsingh/opt/anaconda3/lib/python3.7/site-packages/joblib/parallel.py\", line 835, in dispatch_one_batch\n",
      "    self._dispatch(tasks)\n",
      "  File \"/Users/deepankarsingh/opt/anaconda3/lib/python3.7/site-packages/joblib/parallel.py\", line 754, in _dispatch\n",
      "    job = self._backend.apply_async(batch, callback=cb)\n",
      "  File \"/Users/deepankarsingh/opt/anaconda3/lib/python3.7/site-packages/joblib/_parallel_backends.py\", line 209, in apply_async\n",
      "    result = ImmediateResult(func)\n",
      "  File \"/Users/deepankarsingh/opt/anaconda3/lib/python3.7/site-packages/joblib/_parallel_backends.py\", line 590, in __init__\n",
      "    self.results = batch()\n",
      "  File \"/Users/deepankarsingh/opt/anaconda3/lib/python3.7/site-packages/joblib/parallel.py\", line 256, in __call__\n",
      "    for func, args, kwargs in self.items]\n",
      "  File \"/Users/deepankarsingh/opt/anaconda3/lib/python3.7/site-packages/joblib/parallel.py\", line 256, in <listcomp>\n",
      "    for func, args, kwargs in self.items]\n",
      "  File \"/Users/deepankarsingh/opt/anaconda3/lib/python3.7/site-packages/sklearn/linear_model/_logistic.py\", line 1152, in _log_reg_scoring_path\n",
      "    max_squared_sum=max_squared_sum, sample_weight=sample_weight)\n",
      "  File \"/Users/deepankarsingh/opt/anaconda3/lib/python3.7/site-packages/sklearn/linear_model/_logistic.py\", line 977, in _logistic_regression_path\n",
      "    is_saga=(solver == 'saga'))\n",
      "  File \"/Users/deepankarsingh/opt/anaconda3/lib/python3.7/site-packages/sklearn/linear_model/_sag.py\", line 326, in sag_solver\n",
      "    verbose)\n",
      "KeyboardInterrupt\n",
      "\n",
      "During handling of the above exception, another exception occurred:\n",
      "\n",
      "Traceback (most recent call last):\n",
      "  File \"/Users/deepankarsingh/opt/anaconda3/lib/python3.7/site-packages/IPython/core/interactiveshell.py\", line 2044, in showtraceback\n",
      "    # Defined here so that it's included in the documentation\n",
      "AttributeError: 'KeyboardInterrupt' object has no attribute '_render_traceback_'\n",
      "\n",
      "During handling of the above exception, another exception occurred:\n",
      "\n",
      "Traceback (most recent call last):\n",
      "  File \"/Users/deepankarsingh/opt/anaconda3/lib/python3.7/site-packages/IPython/core/ultratb.py\", line 1151, in get_records\n",
      "    def get_parts_of_chained_exception(self, evalue):\n",
      "  File \"/Users/deepankarsingh/opt/anaconda3/lib/python3.7/site-packages/IPython/core/ultratb.py\", line 319, in wrapped\n",
      "  File \"/Users/deepankarsingh/opt/anaconda3/lib/python3.7/site-packages/IPython/core/ultratb.py\", line 353, in _fixed_getinnerframes\n",
      "  File \"/Users/deepankarsingh/opt/anaconda3/lib/python3.7/inspect.py\", line 1502, in getinnerframes\n",
      "    frameinfo = (tb.tb_frame,) + getframeinfo(tb, context)\n",
      "  File \"/Users/deepankarsingh/opt/anaconda3/lib/python3.7/inspect.py\", line 1460, in getframeinfo\n",
      "    filename = getsourcefile(frame) or getfile(frame)\n",
      "  File \"/Users/deepankarsingh/opt/anaconda3/lib/python3.7/inspect.py\", line 696, in getsourcefile\n",
      "    if getattr(getmodule(object, filename), '__loader__', None) is not None:\n",
      "  File \"/Users/deepankarsingh/opt/anaconda3/lib/python3.7/inspect.py\", line 732, in getmodule\n",
      "    for modname, module in list(sys.modules.items()):\n",
      "KeyboardInterrupt\n"
     ]
    },
    {
     "ename": "KeyboardInterrupt",
     "evalue": "",
     "output_type": "error",
     "traceback": [
      "\u001b[0;31m---------------------------------------------------------------------------\u001b[0m"
     ]
    }
   ],
   "source": [
    "import matplotlib as mp1\n",
    "import matplotlib.pyplot as plt\n",
    "import warnings\n",
    "warnings.filterwarnings(\"ignore\")\n",
    "import numpy as np\n",
    "\n",
    "# Find the best Logistic Regression model that can solve this problem\n",
    "\n",
    "#L1 penalty\n",
    "\n",
    "C = [0.001,0.01,0.1,1,10,100,1000]\n",
    "l1_reg = LogisticRegressionCV(Cs=C, random_state=42,max_iter=30, solver='saga', penalty='l1',class_weight='balanced')\n",
    "l1_reg.fit(train_data_i,train_data_o)\n",
    "l1_best_C = l1_reg.C_\n",
    "l1_best_train_score = np.mean(cross_val_score(l1_reg,train_data_i,train_data_o,cv=3,scoring=\"accuracy\"))\n",
    "print('Best C : ',l1_best_C[0])\n",
    "print('Training Score : ',l1_best_train_score)"
   ]
  },
  {
   "cell_type": "code",
   "execution_count": null,
   "metadata": {
    "id": "-myF7rI2TUon"
   },
   "outputs": [],
   "source": [
    "import warnings\n",
    "warnings.filterwarnings(\"ignore\")\n",
    "import numpy as np"
   ]
  },
  {
   "cell_type": "code",
   "execution_count": null,
   "metadata": {
    "colab": {
     "base_uri": "https://localhost:8080/"
    },
    "id": "FH9HG8zZIG9I",
    "outputId": "39815b34-392e-4543-cc00-ba2810e2d6c4"
   },
   "outputs": [],
   "source": [
    "l1_pred = l1_reg.predict(test_data_i)\n",
    "count_misclassified = (test_data_o != l1_pred).sum()\n",
    "print('Misclassified samples: {}'.format(count_misclassified))\n",
    "print(accuracy_score(test_data_o,l1_pred))\n"
   ]
  },
  {
   "cell_type": "code",
   "execution_count": null,
   "metadata": {
    "colab": {
     "base_uri": "https://localhost:8080/"
    },
    "id": "Y4UU0OGnIeSC",
    "outputId": "d289169a-6568-497b-8aa8-7db1df6a10bb"
   },
   "outputs": [],
   "source": [
    "cm = confusion_matrix(test_data_o,l1_pred)\n",
    "cm"
   ]
  },
  {
   "cell_type": "code",
   "execution_count": 22,
   "metadata": {
    "colab": {
     "base_uri": "https://localhost:8080/"
    },
    "id": "4FS7NauYVyOo",
    "outputId": "a9a119d7-3568-4196-9a21-eebba0e562bb"
   },
   "outputs": [
    {
     "name": "stdout",
     "output_type": "stream",
     "text": [
      "Best C :  1000.0\n",
      "Training Score :  0.8572578789970094\n"
     ]
    }
   ],
   "source": [
    "from sklearn.linear_model import LogisticRegression\n",
    "l2_reg = LogisticRegressionCV(Cs=C, random_state=42,max_iter=30, solver='saga', penalty='l2',class_weight='balanced')\n",
    "l2_reg.fit(train_data_i,train_data_o)\n",
    "l2_best_C = l2_reg.C_\n",
    "l2_best_train_score = np.mean(cross_val_score(l2_reg,train_data_i,train_data_o,cv=3,scoring=\"accuracy\"))\n",
    "print('Best C : ',l2_best_C[0])\n",
    "print('Training Score : ',l2_best_train_score)"
   ]
  },
  {
   "cell_type": "code",
   "execution_count": 24,
   "metadata": {
    "colab": {
     "base_uri": "https://localhost:8080/"
    },
    "id": "aHuAP5mFWEwR",
    "outputId": "59fdfc59-4652-41e5-f9f5-88ebd1edb46f"
   },
   "outputs": [
    {
     "name": "stdout",
     "output_type": "stream",
     "text": [
      "Misclassified samples: 255\n",
      "0.8827046918123275\n"
     ]
    }
   ],
   "source": [
    "l2_pred = l2_reg.predict(test_data_i)\n",
    "count_misclassified = (test_data_o != l2_pred).sum()\n",
    "print('Misclassified samples: {}'.format(count_misclassified))\n",
    "print(accuracy_score(test_data_o,l2_pred))\n"
   ]
  },
  {
   "cell_type": "code",
   "execution_count": 26,
   "metadata": {
    "colab": {
     "base_uri": "https://localhost:8080/"
    },
    "id": "EbGBmdZ6awfH",
    "outputId": "d6a5c218-c0b9-4333-d780-04370baf7f77"
   },
   "outputs": [
    {
     "data": {
      "text/plain": [
       "array([[240,   2,   3,  12,   2,   3,   1,  41,   4],\n",
       "       [ 28, 413,   8,   5,   2,  19,   1,   9,  11],\n",
       "       [  0,   0, 588,   0,   0,   0,   0,   0,   0],\n",
       "       [  0,   0,   0,  92,   0,   3,   0,   0,   0],\n",
       "       [  0,   0,   0,   3,   5,   0,   0,   0,   0],\n",
       "       [  7,   0,   0,  22,   4, 104,   1,   8,   4],\n",
       "       [  0,   0,   0,   0,   2,   3,  75,   0,   0],\n",
       "       [  7,   0,   0,   9,   2,   1,   0, 225,   2],\n",
       "       [  2,   1,   2,   2,   0,   4,   4,  11, 177]])"
      ]
     },
     "execution_count": 26,
     "metadata": {
      "tags": []
     },
     "output_type": "execute_result"
    }
   ],
   "source": [
    "cm = confusion_matrix(test_data_o,l2_pred)\n",
    "cm"
   ]
  },
  {
   "cell_type": "code",
   "execution_count": 2,
   "metadata": {
    "colab": {
     "base_uri": "https://localhost:8080/",
     "height": 248
    },
    "id": "N331cTqxb6gJ",
    "outputId": "c2be7c44-819a-4dae-bbb3-ee5e217a4fd8"
   },
   "outputs": [
    {
     "ename": "NameError",
     "evalue": "ignored",
     "output_type": "error",
     "traceback": [
      "\u001b[0;31m---------------------------------------------------------------------------\u001b[0m",
      "\u001b[0;31mNameError\u001b[0m                                 Traceback (most recent call last)",
      "\u001b[0;32m<ipython-input-2-53a6cadc5ac3>\u001b[0m in \u001b[0;36m<module>\u001b[0;34m()\u001b[0m\n\u001b[0;32m----> 1\u001b[0;31m \u001b[0men_reg\u001b[0m \u001b[0;34m=\u001b[0m \u001b[0mLogisticRegressionCV\u001b[0m\u001b[0;34m(\u001b[0m\u001b[0mCs\u001b[0m\u001b[0;34m=\u001b[0m\u001b[0mC\u001b[0m\u001b[0;34m,\u001b[0m \u001b[0mrandom_state\u001b[0m\u001b[0;34m=\u001b[0m\u001b[0;36m42\u001b[0m\u001b[0;34m,\u001b[0m\u001b[0mmax_iter\u001b[0m\u001b[0;34m=\u001b[0m\u001b[0;36m30\u001b[0m\u001b[0;34m,\u001b[0m \u001b[0msolver\u001b[0m\u001b[0;34m=\u001b[0m\u001b[0;34m'saga'\u001b[0m\u001b[0;34m,\u001b[0m \u001b[0mpenalty\u001b[0m\u001b[0;34m=\u001b[0m\u001b[0;34m'elasticnet'\u001b[0m\u001b[0;34m,\u001b[0m\u001b[0ml1_ratios\u001b[0m\u001b[0;34m=\u001b[0m\u001b[0;34m[\u001b[0m\u001b[0;36m0.0\u001b[0m\u001b[0;34m,\u001b[0m\u001b[0;36m0.25\u001b[0m\u001b[0;34m,\u001b[0m\u001b[0;36m0.5\u001b[0m\u001b[0;34m,\u001b[0m\u001b[0;36m0.75\u001b[0m\u001b[0;34m,\u001b[0m\u001b[0;36m1.0\u001b[0m\u001b[0;34m]\u001b[0m\u001b[0;34m,\u001b[0m\u001b[0mclass_weight\u001b[0m\u001b[0;34m=\u001b[0m\u001b[0;34m'balanced'\u001b[0m\u001b[0;34m)\u001b[0m\u001b[0;34m\u001b[0m\u001b[0;34m\u001b[0m\u001b[0m\n\u001b[0m\u001b[1;32m      2\u001b[0m \u001b[0men_reg\u001b[0m\u001b[0;34m.\u001b[0m\u001b[0mfit\u001b[0m\u001b[0;34m(\u001b[0m\u001b[0mtrain_data_i\u001b[0m\u001b[0;34m,\u001b[0m\u001b[0mtrain_data_o\u001b[0m\u001b[0;34m)\u001b[0m\u001b[0;34m\u001b[0m\u001b[0;34m\u001b[0m\u001b[0m\n\u001b[1;32m      3\u001b[0m \u001b[0men_best_train_score\u001b[0m \u001b[0;34m=\u001b[0m \u001b[0mnp\u001b[0m\u001b[0;34m.\u001b[0m\u001b[0mmean\u001b[0m\u001b[0;34m(\u001b[0m\u001b[0mcross_val_score\u001b[0m\u001b[0;34m(\u001b[0m\u001b[0men_reg\u001b[0m\u001b[0;34m,\u001b[0m\u001b[0mtrain_data_i\u001b[0m\u001b[0;34m,\u001b[0m\u001b[0mtrain_data_o\u001b[0m\u001b[0;34m,\u001b[0m\u001b[0mcv\u001b[0m\u001b[0;34m=\u001b[0m\u001b[0;36m3\u001b[0m\u001b[0;34m,\u001b[0m\u001b[0mscoring\u001b[0m\u001b[0;34m=\u001b[0m\u001b[0;34m\"accuracy\"\u001b[0m\u001b[0;34m)\u001b[0m\u001b[0;34m)\u001b[0m\u001b[0;34m\u001b[0m\u001b[0;34m\u001b[0m\u001b[0m\n\u001b[1;32m      4\u001b[0m \u001b[0men_best_C\u001b[0m \u001b[0;34m=\u001b[0m \u001b[0men_reg\u001b[0m\u001b[0;34m.\u001b[0m\u001b[0mC_\u001b[0m\u001b[0;34m\u001b[0m\u001b[0;34m\u001b[0m\u001b[0m\n\u001b[1;32m      5\u001b[0m \u001b[0mprint\u001b[0m\u001b[0;34m(\u001b[0m\u001b[0;34m'Best C : '\u001b[0m\u001b[0;34m,\u001b[0m\u001b[0men_best_C\u001b[0m\u001b[0;34m)\u001b[0m\u001b[0;34m\u001b[0m\u001b[0;34m\u001b[0m\u001b[0m\n",
      "\u001b[0;31mNameError\u001b[0m: name 'LogisticRegressionCV' is not defined"
     ]
    }
   ],
   "source": [
    "en_reg = LogisticRegressionCV(Cs=C, random_state=42,max_iter=30, solver='saga', penalty='elasticnet',l1_ratios=[0.0,0.25,0.5,0.75,1.0],class_weight='balanced')\n",
    "en_reg.fit(train_data_i,train_data_o)\n",
    "en_best_train_score = np.mean(cross_val_score(en_reg,train_data_i,train_data_o,cv=3,scoring=\"accuracy\"))\n",
    "en_best_C = en_reg.C_\n",
    "print('Best C : ',en_best_C)\n",
    "print('Training Score : ',en_best_train_score)\n"
   ]
  },
  {
   "cell_type": "code",
   "execution_count": null,
   "metadata": {
    "colab": {
     "base_uri": "https://localhost:8080/"
    },
    "id": "-UTCAc9gkOcw",
    "outputId": "58000509-8ea4-41de-c649-1898d72cc512"
   },
   "outputs": [
    {
     "name": "stdout",
     "output_type": "stream",
     "text": [
      "Misclassified samples: 182\n",
      "0.9162833486660533\n"
     ]
    }
   ],
   "source": [
    "en_pred = en_reg.predict(test_data_i)\n",
    "count_misclassified = (test_data_o != en_pred).sum()\n",
    "print('Misclassified samples: {}'.format(count_misclassified))\n",
    "print(accuracy_score(test_data_o,en_pred))"
   ]
  },
  {
   "cell_type": "code",
   "execution_count": 1,
   "metadata": {
    "colab": {
     "base_uri": "https://localhost:8080/",
     "height": 180
    },
    "id": "0ylJrxJokctl",
    "outputId": "87cf4b34-0f70-462f-a380-c9f9fd853ef9"
   },
   "outputs": [
    {
     "ename": "NameError",
     "evalue": "ignored",
     "output_type": "error",
     "traceback": [
      "\u001b[0;31m---------------------------------------------------------------------------\u001b[0m",
      "\u001b[0;31mNameError\u001b[0m                                 Traceback (most recent call last)",
      "\u001b[0;32m<ipython-input-1-f9c9ee7bf779>\u001b[0m in \u001b[0;36m<module>\u001b[0;34m()\u001b[0m\n\u001b[0;32m----> 1\u001b[0;31m \u001b[0mcm\u001b[0m \u001b[0;34m=\u001b[0m \u001b[0mconfusion_matrix\u001b[0m\u001b[0;34m(\u001b[0m\u001b[0mtest_data_o\u001b[0m\u001b[0;34m,\u001b[0m\u001b[0my_pred\u001b[0m\u001b[0;34m)\u001b[0m\u001b[0;34m\u001b[0m\u001b[0;34m\u001b[0m\u001b[0m\n\u001b[0m\u001b[1;32m      2\u001b[0m \u001b[0mcm\u001b[0m\u001b[0;34m\u001b[0m\u001b[0;34m\u001b[0m\u001b[0m\n",
      "\u001b[0;31mNameError\u001b[0m: name 'confusion_matrix' is not defined"
     ]
    }
   ],
   "source": [
    "cm = confusion_matrix(test_data_o,en_pred)\n",
    "cm"
   ]
  },
  {
   "cell_type": "code",
   "execution_count": null,
   "metadata": {
    "id": "84fQHnZCdxm1"
   },
   "outputs": [],
   "source": [
    "from sklearn.model_selection import GridSearchCV\n",
    "parameter_space = {\n",
    "    'hidden_layer_sizes': [(20),(30),(50)],\n",
    "    'activation': ['relu'],\n",
    "    'solver': ['sgd', 'adam'],\n",
    "    'alpha': [0.00001,0.0001, 0.05],\n",
    "     'max_iter':[50,100,200]\n",
    "    'learning_rate': ['constant','adaptive'],\n",
    "}\n",
    "multi_l_p = GridSearchCV(MLPClassifier, parameter_space, cv=5)\n",
    "clf.fit(train_data_i, train_data_o)"
   ]
  },
  {
   "cell_type": "code",
   "execution_count": null,
   "metadata": {
    "colab": {
     "base_uri": "https://localhost:8080/"
    },
    "id": "NC1QSZ0rNL2k",
    "outputId": "22932e2b-103a-491f-d4da-d517b09fd5d2"
   },
   "outputs": [
    {
     "name": "stdout",
     "output_type": "stream",
     "text": [
      "Best parameters found:\n",
      " {'activation': 'tanh', 'alpha': 0.0001, 'hidden_layer_sizes': 20, 'learning_rate': 'constant', 'max_iter': 30, 'solver': 'adam'}\n"
     ]
    }
   ],
   "source": [
    "print('Best parameters found:\\n', multi_l_p.best_params_)"
   ]
  },
  {
   "cell_type": "code",
   "execution_count": null,
   "metadata": {
    "id": "CbBSZqETAgiD"
   },
   "outputs": [],
   "source": [
    "y_pred = multi_l_p.predict(test_data_i)"
   ]
  },
  {
   "cell_type": "code",
   "execution_count": null,
   "metadata": {
    "colab": {
     "base_uri": "https://localhost:8080/"
    },
    "id": "FyUIadKiDFMM",
    "outputId": "dd28c1e5-130e-42e8-d8d4-9d52f91906c9"
   },
   "outputs": [
    {
     "data": {
      "text/plain": [
       "0.9162833486660533"
      ]
     },
     "execution_count": 48,
     "metadata": {
      "tags": []
     },
     "output_type": "execute_result"
    }
   ],
   "source": [
    "accuracy_score(test_data_o,y_pred)"
   ]
  },
  {
   "cell_type": "code",
   "execution_count": null,
   "metadata": {
    "colab": {
     "base_uri": "https://localhost:8080/"
    },
    "id": "v0-4zEJeDK8_",
    "outputId": "cd4056dc-3d1e-49d7-8e3d-e7c42622e575"
   },
   "outputs": [
    {
     "name": "stdout",
     "output_type": "stream",
     "text": [
      "Misclassified samples: 182\n"
     ]
    }
   ],
   "source": [
    "count_misclassified = (test_data_o != y_pred).sum()\n",
    "print('Misclassified samples: {}'.format(count_misclassified))\n",
    "cm = confusion_matrix(test_data_o,y_pred)"
   ]
  },
  {
   "cell_type": "code",
   "execution_count": null,
   "metadata": {
    "colab": {
     "base_uri": "https://localhost:8080/"
    },
    "id": "xoV548ulDRlY",
    "outputId": "e1da1bcf-b78a-4d5e-b1b0-ca8d74de9182"
   },
   "outputs": [
    {
     "data": {
      "text/plain": [
       "array([[285,   2,   0,   2,   0,   5,   1,   9,   4],\n",
       "       [ 15, 436,   6,   3,   0,   9,   3,  10,  14],\n",
       "       [  0,   0, 588,   0,   0,   0,   0,   0,   0],\n",
       "       [  0,   0,   0,  85,   0,   2,   0,   8,   0],\n",
       "       [  0,   0,   0,   3,   0,   0,   4,   1,   0],\n",
       "       [ 10,   0,   4,   8,   0, 114,   1,   8,   5],\n",
       "       [  2,   0,   1,   0,   0,   2,  74,   1,   0],\n",
       "       [  7,   0,   1,   4,   0,   2,   0, 228,   4],\n",
       "       [  7,   2,   2,   0,   0,   0,   0,  10, 182]])"
      ]
     },
     "execution_count": 50,
     "metadata": {
      "tags": []
     },
     "output_type": "execute_result"
    }
   ],
   "source": [
    "cm"
   ]
  },
  {
   "cell_type": "code",
   "execution_count": null,
   "metadata": {
    "id": "He4xBePGrxMI"
   },
   "outputs": [],
   "source": [
    "from sklearn.ensemble import RandomForestClassifier\n",
    "parameters = {\n",
    "    'n_estimators'      : [320,330,340,500],\n",
    "    'max_depth'         : [9, 10, 11, 12,100],\n",
    "    'random_state'      : [0],\n",
    "    'criterion' :['gini','entropy']\n",
    "}\n",
    "clf = GridSearchCV(RandomForestClassifier(class_weight='balanced'), parameters, cv=5)\n",
    "clf.fit(train_data_i, train_data_o)\n",
    "print('Best parameters found:\\n', clf.best_params_)\n"
   ]
  },
  {
   "cell_type": "code",
   "execution_count": null,
   "metadata": {
    "id": "zKKmlndtCEXi"
   },
   "outputs": [],
   "source": [
    "pred = clf.predict(test_data_i)\n",
    "accuracy_score(test_data_o,pred)"
   ]
  },
  {
   "cell_type": "code",
   "execution_count": null,
   "metadata": {
    "id": "To41beW7CUWV"
   },
   "outputs": [],
   "source": [
    "count_misclassified = (test_data_o != pred).sum()\n",
    "print('Misclassified samples: {}'.format(count_misclassified))\n",
    "cm = confusion_matrix(test_data_o,pred)\n",
    "cm"
   ]
  }
 ],
 "metadata": {
  "accelerator": "GPU",
  "colab": {
   "collapsed_sections": [],
   "name": "ML Lab Assign 4.ipynb",
   "provenance": []
  },
  "kernelspec": {
   "display_name": "Python 3",
   "language": "python",
   "name": "python3"
  },
  "language_info": {
   "codemirror_mode": {
    "name": "ipython",
    "version": 3
   },
   "file_extension": ".py",
   "mimetype": "text/x-python",
   "name": "python",
   "nbconvert_exporter": "python",
   "pygments_lexer": "ipython3",
   "version": "3.8.3"
  }
 },
 "nbformat": 4,
 "nbformat_minor": 4
}
