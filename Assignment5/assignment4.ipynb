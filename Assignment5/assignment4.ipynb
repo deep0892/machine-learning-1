{
 "cells": [
  {
   "cell_type": "code",
   "execution_count": 14,
   "metadata": {},
   "outputs": [],
   "source": [
    "import numpy as np\n",
    "import pandas as pd\n",
    "from keras.models import Sequential\n",
    "from keras.layers import Dense\n",
    "from sklearn.model_selection import train_test_split, cross_val_score, KFold\n",
    "from sklearn.metrics import plot_confusion_matrix, confusion_matrix, accuracy_score\n",
    "from keras.utils import np_utils\n",
    "from sklearn.preprocessing import LabelEncoder,StandardScaler\n",
    "from sklearn.tree import DecisionTreeClassifier\n",
    "from sklearn.linear_model import LogisticRegressionCV\n",
    "import seaborn as sns\n",
    "from scipy import stats\n",
    "from sklearn.svm import SVC\n",
    "from sklearn.naive_bayes import GaussianNB"
   ]
  },
  {
   "cell_type": "code",
   "execution_count": 2,
   "metadata": {},
   "outputs": [
    {
     "data": {
      "text/plain": [
       "(10868, 259)"
      ]
     },
     "execution_count": 2,
     "metadata": {},
     "output_type": "execute_result"
    }
   ],
   "source": [
    "df = pd.read_csv('lab4.csv')\n",
    "df.drop(['ID', 'Unnamed: 0'], axis='columns', inplace=True)\n",
    "df_new = df.copy()\n",
    "df.shape"
   ]
  },
  {
   "cell_type": "code",
   "execution_count": 3,
   "metadata": {},
   "outputs": [
    {
     "data": {
      "text/plain": [
       "(8061, 259)"
      ]
     },
     "execution_count": 3,
     "metadata": {},
     "output_type": "execute_result"
    }
   ],
   "source": [
    "z = np.abs(stats.zscore(df))\n",
    "df = df_new[(z < 3).all(axis=1)]\n",
    "df.shape"
   ]
  },
  {
   "cell_type": "code",
   "execution_count": 4,
   "metadata": {},
   "outputs": [
    {
     "data": {
      "text/plain": [
       "(8061,)"
      ]
     },
     "execution_count": 4,
     "metadata": {},
     "output_type": "execute_result"
    }
   ],
   "source": [
    "y = df['Class']\n",
    "y.shape"
   ]
  },
  {
   "cell_type": "code",
   "execution_count": 5,
   "metadata": {},
   "outputs": [
    {
     "data": {
      "text/plain": [
       "array([[1., 0., 0., ..., 0., 0., 0.],\n",
       "       [0., 0., 0., ..., 0., 1., 0.],\n",
       "       [0., 0., 0., ..., 0., 0., 0.],\n",
       "       ...,\n",
       "       [0., 0., 0., ..., 0., 0., 0.],\n",
       "       [0., 0., 0., ..., 0., 0., 0.],\n",
       "       [0., 0., 0., ..., 0., 0., 0.]], dtype=float32)"
      ]
     },
     "execution_count": 5,
     "metadata": {},
     "output_type": "execute_result"
    }
   ],
   "source": [
    "# encode class values as integers\n",
    "encoder = LabelEncoder()\n",
    "encoder.fit(y)\n",
    "encoded_Y = encoder.transform(y)\n",
    "# convert integers to dummy variables (i.e. one hot encoded)\n",
    "y = np_utils.to_categorical(encoded_Y)\n",
    "y"
   ]
  },
  {
   "cell_type": "code",
   "execution_count": 6,
   "metadata": {},
   "outputs": [
    {
     "data": {
      "text/html": [
       "<div>\n",
       "<style scoped>\n",
       "    .dataframe tbody tr th:only-of-type {\n",
       "        vertical-align: middle;\n",
       "    }\n",
       "\n",
       "    .dataframe tbody tr th {\n",
       "        vertical-align: top;\n",
       "    }\n",
       "\n",
       "    .dataframe thead th {\n",
       "        text-align: right;\n",
       "    }\n",
       "</style>\n",
       "<table border=\"1\" class=\"dataframe\">\n",
       "  <thead>\n",
       "    <tr style=\"text-align: right;\">\n",
       "      <th></th>\n",
       "      <th>0</th>\n",
       "      <th>1</th>\n",
       "      <th>2</th>\n",
       "      <th>3</th>\n",
       "      <th>4</th>\n",
       "      <th>5</th>\n",
       "      <th>6</th>\n",
       "      <th>7</th>\n",
       "      <th>8</th>\n",
       "      <th>9</th>\n",
       "      <th>...</th>\n",
       "      <th>f8</th>\n",
       "      <th>f9</th>\n",
       "      <th>fa</th>\n",
       "      <th>fb</th>\n",
       "      <th>fc</th>\n",
       "      <th>fd</th>\n",
       "      <th>fe</th>\n",
       "      <th>ff</th>\n",
       "      <th>??</th>\n",
       "      <th>size</th>\n",
       "    </tr>\n",
       "  </thead>\n",
       "  <tbody>\n",
       "    <tr>\n",
       "      <th>3</th>\n",
       "      <td>21091</td>\n",
       "      <td>1213</td>\n",
       "      <td>726</td>\n",
       "      <td>817</td>\n",
       "      <td>1257</td>\n",
       "      <td>625</td>\n",
       "      <td>550</td>\n",
       "      <td>523</td>\n",
       "      <td>1078</td>\n",
       "      <td>473</td>\n",
       "      <td>...</td>\n",
       "      <td>873</td>\n",
       "      <td>485</td>\n",
       "      <td>462</td>\n",
       "      <td>516</td>\n",
       "      <td>1133</td>\n",
       "      <td>471</td>\n",
       "      <td>761</td>\n",
       "      <td>7998</td>\n",
       "      <td>13940</td>\n",
       "      <td>0.574219</td>\n",
       "    </tr>\n",
       "    <tr>\n",
       "      <th>4</th>\n",
       "      <td>19764</td>\n",
       "      <td>710</td>\n",
       "      <td>302</td>\n",
       "      <td>433</td>\n",
       "      <td>559</td>\n",
       "      <td>410</td>\n",
       "      <td>262</td>\n",
       "      <td>249</td>\n",
       "      <td>422</td>\n",
       "      <td>223</td>\n",
       "      <td>...</td>\n",
       "      <td>947</td>\n",
       "      <td>350</td>\n",
       "      <td>209</td>\n",
       "      <td>239</td>\n",
       "      <td>653</td>\n",
       "      <td>221</td>\n",
       "      <td>242</td>\n",
       "      <td>2199</td>\n",
       "      <td>9008</td>\n",
       "      <td>0.370850</td>\n",
       "    </tr>\n",
       "    <tr>\n",
       "      <th>5</th>\n",
       "      <td>85090</td>\n",
       "      <td>414</td>\n",
       "      <td>340</td>\n",
       "      <td>331</td>\n",
       "      <td>350</td>\n",
       "      <td>324</td>\n",
       "      <td>303</td>\n",
       "      <td>299</td>\n",
       "      <td>327</td>\n",
       "      <td>364</td>\n",
       "      <td>...</td>\n",
       "      <td>305</td>\n",
       "      <td>295</td>\n",
       "      <td>333</td>\n",
       "      <td>344</td>\n",
       "      <td>325</td>\n",
       "      <td>332</td>\n",
       "      <td>321</td>\n",
       "      <td>403</td>\n",
       "      <td>60984</td>\n",
       "      <td>0.669922</td>\n",
       "    </tr>\n",
       "    <tr>\n",
       "      <th>8</th>\n",
       "      <td>33141</td>\n",
       "      <td>430</td>\n",
       "      <td>311</td>\n",
       "      <td>410</td>\n",
       "      <td>411</td>\n",
       "      <td>330</td>\n",
       "      <td>385</td>\n",
       "      <td>863</td>\n",
       "      <td>345</td>\n",
       "      <td>378</td>\n",
       "      <td>...</td>\n",
       "      <td>333</td>\n",
       "      <td>312</td>\n",
       "      <td>272</td>\n",
       "      <td>279</td>\n",
       "      <td>295</td>\n",
       "      <td>300</td>\n",
       "      <td>334</td>\n",
       "      <td>12186</td>\n",
       "      <td>25352</td>\n",
       "      <td>0.502441</td>\n",
       "    </tr>\n",
       "    <tr>\n",
       "      <th>11</th>\n",
       "      <td>12369</td>\n",
       "      <td>2317</td>\n",
       "      <td>2111</td>\n",
       "      <td>2210</td>\n",
       "      <td>2087</td>\n",
       "      <td>2120</td>\n",
       "      <td>2106</td>\n",
       "      <td>2186</td>\n",
       "      <td>2424</td>\n",
       "      <td>1971</td>\n",
       "      <td>...</td>\n",
       "      <td>2001</td>\n",
       "      <td>2056</td>\n",
       "      <td>1977</td>\n",
       "      <td>2086</td>\n",
       "      <td>2223</td>\n",
       "      <td>2019</td>\n",
       "      <td>2025</td>\n",
       "      <td>3193</td>\n",
       "      <td>16272</td>\n",
       "      <td>1.686768</td>\n",
       "    </tr>\n",
       "  </tbody>\n",
       "</table>\n",
       "<p>5 rows × 258 columns</p>\n",
       "</div>"
      ],
      "text/plain": [
       "        0     1     2     3     4     5     6     7     8     9  ...    f8  \\\n",
       "3   21091  1213   726   817  1257   625   550   523  1078   473  ...   873   \n",
       "4   19764   710   302   433   559   410   262   249   422   223  ...   947   \n",
       "5   85090   414   340   331   350   324   303   299   327   364  ...   305   \n",
       "8   33141   430   311   410   411   330   385   863   345   378  ...   333   \n",
       "11  12369  2317  2111  2210  2087  2120  2106  2186  2424  1971  ...  2001   \n",
       "\n",
       "      f9    fa    fb    fc    fd    fe     ff     ??      size  \n",
       "3    485   462   516  1133   471   761   7998  13940  0.574219  \n",
       "4    350   209   239   653   221   242   2199   9008  0.370850  \n",
       "5    295   333   344   325   332   321    403  60984  0.669922  \n",
       "8    312   272   279   295   300   334  12186  25352  0.502441  \n",
       "11  2056  1977  2086  2223  2019  2025   3193  16272  1.686768  \n",
       "\n",
       "[5 rows x 258 columns]"
      ]
     },
     "execution_count": 6,
     "metadata": {},
     "output_type": "execute_result"
    }
   ],
   "source": [
    "X = df.drop(['Class'], axis='columns')\n",
    "Y = df['Class']\n",
    "X.head()"
   ]
  },
  {
   "cell_type": "code",
   "execution_count": 7,
   "metadata": {},
   "outputs": [],
   "source": [
    "scaler = StandardScaler().fit(X)\n",
    "X = scaler.transform(X)"
   ]
  },
  {
   "cell_type": "code",
   "execution_count": 8,
   "metadata": {},
   "outputs": [],
   "source": [
    "X_train, X_test, y_train, y_test = train_test_split(X, y, test_size=0.20, random_state=42, stratify=y)"
   ]
  },
  {
   "cell_type": "markdown",
   "metadata": {},
   "source": [
    "### Applying Keras Model"
   ]
  },
  {
   "cell_type": "code",
   "execution_count": 35,
   "metadata": {},
   "outputs": [],
   "source": [
    "# define the keras model\n",
    "model = Sequential()\n",
    "model.add(Dense(350, input_dim=258, activation='relu'))\n",
    "model.add(Dense(250, activation='relu'))\n",
    "model.add(Dense(150, activation='relu'))\n",
    "model.add(Dense(100, activation='relu'))\n",
    "model.add(Dense(9, activation='softmax'))"
   ]
  },
  {
   "cell_type": "code",
   "execution_count": 36,
   "metadata": {},
   "outputs": [],
   "source": [
    "# compile the keras model\n",
    "model.compile(loss='categorical_crossentropy', optimizer='adam', metrics=['accuracy'])"
   ]
  },
  {
   "cell_type": "code",
   "execution_count": 37,
   "metadata": {},
   "outputs": [
    {
     "data": {
      "text/plain": [
       "<tensorflow.python.keras.callbacks.History at 0x7f97aebcd350>"
      ]
     },
     "execution_count": 37,
     "metadata": {},
     "output_type": "execute_result"
    }
   ],
   "source": [
    "# fit the keras model on the dataset\n",
    "model.fit(X_train, y_train, epochs=150, batch_size=250, verbose=0, validation_split=0.2)"
   ]
  },
  {
   "cell_type": "code",
   "execution_count": 38,
   "metadata": {},
   "outputs": [
    {
     "name": "stdout",
     "output_type": "stream",
     "text": [
      "202/202 [==============================] - 0s 1ms/step - loss: 0.0391 - accuracy: 0.9941\n",
      "Accuracy: 99.41\n"
     ]
    }
   ],
   "source": [
    "# evaluate the keras model on train set\n",
    "_, accuracy = model.evaluate(X_train, y_train)\n",
    "print('Accuracy: %.2f' % (accuracy*100))"
   ]
  },
  {
   "cell_type": "code",
   "execution_count": 95,
   "metadata": {},
   "outputs": [
    {
     "name": "stdout",
     "output_type": "stream",
     "text": [
      "51/51 [==============================] - 0s 2ms/step - loss: 0.2001 - accuracy: 0.9783\n",
      "Accuracy: 97.83\n"
     ]
    }
   ],
   "source": [
    "# evaluate the keras model on test set\n",
    "_, accuracy_keras = model.evaluate(X_test, y_test)\n",
    "print('Accuracy: %.2f' % (accuracy_keras*100))"
   ]
  },
  {
   "cell_type": "code",
   "execution_count": 40,
   "metadata": {},
   "outputs": [],
   "source": [
    "predictions = model.predict_classes(X)"
   ]
  },
  {
   "cell_type": "markdown",
   "metadata": {},
   "source": [
    "##### Confusion Matrix"
   ]
  },
  {
   "cell_type": "code",
   "execution_count": 113,
   "metadata": {},
   "outputs": [
    {
     "data": {
      "text/plain": [
       "<matplotlib.axes._subplots.AxesSubplot at 0x7f979c1c4590>"
      ]
     },
     "execution_count": 113,
     "metadata": {},
     "output_type": "execute_result"
    },
    {
     "data": {
      "image/png": "[encoded data removed]",
      "text/plain": [
       "<Figure size 432x288 with 2 Axes>"
      ]
     },
     "metadata": {
      "needs_background": "light"
     },
     "output_type": "display_data"
    }
   ],
   "source": [
    "cm = confusion_matrix(y_true=Y, y_pred=predictions)\n",
    "sns.heatmap(cm, annot=True, fmt=\"d\", linewidths=.5, cmap='Blues')"
   ]
  },
  {
   "cell_type": "code",
   "execution_count": 42,
   "metadata": {},
   "outputs": [
    {
     "data": {
      "text/plain": [
       "array([2, 7, 5, ..., 3, 2, 2])"
      ]
     },
     "execution_count": 42,
     "metadata": {},
     "output_type": "execute_result"
    }
   ],
   "source": [
    "pred = model.predict(X_test)\n",
    "pred.argmax(axis=-1)"
   ]
  },
  {
   "cell_type": "markdown",
   "metadata": {},
   "source": [
    "### Decision Tree Classifier"
   ]
  },
  {
   "cell_type": "code",
   "execution_count": 9,
   "metadata": {},
   "outputs": [],
   "source": [
    "X_train_dt, X_test_dt, y_train_dt, y_test_dt = train_test_split(X, Y, test_size=0.20, random_state=42, stratify=Y)"
   ]
  },
  {
   "cell_type": "code",
   "execution_count": 10,
   "metadata": {},
   "outputs": [],
   "source": [
    "dtree_model = DecisionTreeClassifier(max_depth=15).fit(X_train_dt, y_train_dt)"
   ]
  },
  {
   "cell_type": "code",
   "execution_count": 11,
   "metadata": {},
   "outputs": [
    {
     "data": {
      "text/plain": [
       "0.9984491315136477"
      ]
     },
     "execution_count": 11,
     "metadata": {},
     "output_type": "execute_result"
    }
   ],
   "source": [
    "dtree_model.score(X_train_dt,y_train_dt)"
   ]
  },
  {
   "cell_type": "code",
   "execution_count": 46,
   "metadata": {},
   "outputs": [
    {
     "data": {
      "text/plain": [
       "array([1, 9, 1, ..., 9, 3, 4])"
      ]
     },
     "execution_count": 46,
     "metadata": {},
     "output_type": "execute_result"
    }
   ],
   "source": [
    "dtree_predictions = dtree_model.predict(X_test_dt) \n",
    "dtree_predictions"
   ]
  },
  {
   "cell_type": "code",
   "execution_count": 96,
   "metadata": {},
   "outputs": [
    {
     "data": {
      "text/plain": [
       "0.9454432734035958"
      ]
     },
     "execution_count": 96,
     "metadata": {},
     "output_type": "execute_result"
    }
   ],
   "source": [
    "accuracy_DecisionTree = dtree_model.score(X_test_dt,y_test_dt)\n",
    "accuracy_DecisionTree"
   ]
  },
  {
   "cell_type": "markdown",
   "metadata": {},
   "source": [
    "##### Confusion Matrix"
   ]
  },
  {
   "cell_type": "code",
   "execution_count": 112,
   "metadata": {},
   "outputs": [
    {
     "data": {
      "text/plain": [
       "<matplotlib.axes._subplots.AxesSubplot at 0x7f9794d75fd0>"
      ]
     },
     "execution_count": 112,
     "metadata": {},
     "output_type": "execute_result"
    },
    {
     "data": {
      "image/png": "[encoded data removed]",
      "text/plain": [
       "<Figure size 432x288 with 2 Axes>"
      ]
     },
     "metadata": {
      "needs_background": "light"
     },
     "output_type": "display_data"
    }
   ],
   "source": [
    "cm = confusion_matrix(y_test_dt, dtree_predictions)\n",
    "sns.heatmap(cm, annot=True, fmt=\"d\", linewidths=.5, cmap='Blues')"
   ]
  },
  {
   "cell_type": "code",
   "execution_count": null,
   "metadata": {},
   "outputs": [],
   "source": []
  },
  {
   "cell_type": "markdown",
   "metadata": {},
   "source": [
    "### SVM (Support vector machine) classifier –"
   ]
  },
  {
   "cell_type": "code",
   "execution_count": 49,
   "metadata": {},
   "outputs": [],
   "source": [
    "X_train_svm, X_test_svm, y_train_svm, y_test_svm = train_test_split(X, Y, test_size=0.20, random_state=42, stratify=Y)"
   ]
  },
  {
   "cell_type": "code",
   "execution_count": 71,
   "metadata": {},
   "outputs": [],
   "source": [
    "# training a linear SVM classifier \n",
    "svm_model_linear = SVC(kernel = 'linear', C = 1).fit(X_train_svm, y_train_svm)"
   ]
  },
  {
   "cell_type": "code",
   "execution_count": 72,
   "metadata": {},
   "outputs": [
    {
     "data": {
      "text/plain": [
       "0.9928660049627791"
      ]
     },
     "execution_count": 72,
     "metadata": {},
     "output_type": "execute_result"
    }
   ],
   "source": [
    "# model accuracy for X_test \n",
    "train_accuracy = svm_model_linear.score(X_train_svm, y_train_svm)\n",
    "train_accuracy"
   ]
  },
  {
   "cell_type": "code",
   "execution_count": 73,
   "metadata": {},
   "outputs": [
    {
     "data": {
      "text/plain": [
       "array([1, 9, 1, ..., 6, 3, 4])"
      ]
     },
     "execution_count": 73,
     "metadata": {},
     "output_type": "execute_result"
    }
   ],
   "source": [
    "svm_predictions = svm_model_linear.predict(X_test_svm)\n",
    "svm_predictions"
   ]
  },
  {
   "cell_type": "code",
   "execution_count": 97,
   "metadata": {},
   "outputs": [
    {
     "data": {
      "text/plain": [
       "0.9646621202727836"
      ]
     },
     "execution_count": 97,
     "metadata": {},
     "output_type": "execute_result"
    }
   ],
   "source": [
    "# model accuracy for X_test \n",
    "accuracy_svc = svm_model_linear.score(X_test_svm, y_test_svm)\n",
    "accuracy_svc"
   ]
  },
  {
   "cell_type": "markdown",
   "metadata": {},
   "source": [
    "##### Confusion Matrix"
   ]
  },
  {
   "cell_type": "code",
   "execution_count": 111,
   "metadata": {},
   "outputs": [
    {
     "data": {
      "text/plain": [
       "<matplotlib.axes._subplots.AxesSubplot at 0x7f9794274810>"
      ]
     },
     "execution_count": 111,
     "metadata": {},
     "output_type": "execute_result"
    },
    {
     "data": {
      "image/png": "[encoded data removed]",
      "text/plain": [
       "<Figure size 432x288 with 2 Axes>"
      ]
     },
     "metadata": {
      "needs_background": "light"
     },
     "output_type": "display_data"
    }
   ],
   "source": [
    "# creating a confusion matrix \n",
    "cm = confusion_matrix(y_test_svm, svm_predictions)\n",
    "sns.heatmap(cm, annot=True, fmt=\"d\", linewidths=.5, cmap='Blues')"
   ]
  },
  {
   "cell_type": "markdown",
   "metadata": {},
   "source": [
    "### Naive Bayes classifier –"
   ]
  },
  {
   "cell_type": "code",
   "execution_count": 82,
   "metadata": {},
   "outputs": [],
   "source": [
    "X_train_gnb, X_test_gnb, y_train_gnb, y_test_gnb = train_test_split(X, Y, test_size=0.20, random_state=42, stratify=Y)"
   ]
  },
  {
   "cell_type": "code",
   "execution_count": 83,
   "metadata": {},
   "outputs": [],
   "source": [
    "# training a Naive Bayes classifier \n",
    "gnb = GaussianNB().fit(X_train_gnb, y_train_gnb) "
   ]
  },
  {
   "cell_type": "code",
   "execution_count": 86,
   "metadata": {},
   "outputs": [
    {
     "data": {
      "text/plain": [
       "0.7194478908188585"
      ]
     },
     "execution_count": 86,
     "metadata": {},
     "output_type": "execute_result"
    }
   ],
   "source": [
    "# accuracy on Train \n",
    "train_accuracy = gnb.score(X_train_gnb, y_train_gnb) \n",
    "train_accuracy "
   ]
  },
  {
   "cell_type": "code",
   "execution_count": 87,
   "metadata": {},
   "outputs": [],
   "source": [
    "gnb_predictions = gnb.predict(X_test) "
   ]
  },
  {
   "cell_type": "code",
   "execution_count": 98,
   "metadata": {},
   "outputs": [
    {
     "data": {
      "text/plain": [
       "0.7253564786112833"
      ]
     },
     "execution_count": 98,
     "metadata": {},
     "output_type": "execute_result"
    }
   ],
   "source": [
    "# accuracy on X_test \n",
    "accuracy_gnb = gnb.score(X_test_gnb, y_test_gnb) \n",
    "accuracy_gnb"
   ]
  },
  {
   "cell_type": "markdown",
   "metadata": {},
   "source": [
    "##### Confusion Matrix"
   ]
  },
  {
   "cell_type": "code",
   "execution_count": 110,
   "metadata": {},
   "outputs": [
    {
     "data": {
      "text/plain": [
       "<matplotlib.axes._subplots.AxesSubplot at 0x7f97a4ca7a10>"
      ]
     },
     "execution_count": 110,
     "metadata": {},
     "output_type": "execute_result"
    },
    {
     "data": {
      "image/png": "[encoded data removed]",
      "text/plain": [
       "<Figure size 432x288 with 2 Axes>"
      ]
     },
     "metadata": {
      "needs_background": "light"
     },
     "output_type": "display_data"
    }
   ],
   "source": [
    "# creating a confusion matrix \n",
    "cm = confusion_matrix(y_test_gnb, gnb_predictions)\n",
    "sns.heatmap(cm, annot=True, fmt=\"d\", linewidths=.5, cmap='Blues')"
   ]
  },
  {
   "cell_type": "code",
   "execution_count": null,
   "metadata": {},
   "outputs": [],
   "source": []
  },
  {
   "cell_type": "markdown",
   "metadata": {},
   "source": [
    "### Result"
   ]
  },
  {
   "cell_type": "code",
   "execution_count": 114,
   "metadata": {},
   "outputs": [
    {
     "name": "stdout",
     "output_type": "stream",
     "text": [
      "[['KerasClassifier: Accuracy-' '0.98']\n",
      " ['DecisionTreeClassifier: Accuracy-' '0.95']\n",
      " ['SVC Classifier: Accuracy-' '0.96']\n",
      " ['GaussianNBClassifier: Accuracy-' '0.73']]\n"
     ]
    }
   ],
   "source": [
    "result = np.array([['KerasClassifier: Accuracy-', round(accuracy_keras,2)],\n",
    "                   ['DecisionTreeClassifier: Accuracy-', round(accuracy_DecisionTree,2)],\n",
    "                   ['SVC Classifier: Accuracy-', round(accuracy_svc,2)],\n",
    "                   ['GaussianNBClassifier: Accuracy-', round(accuracy_gnb,2)],\n",
    "                  ])\n",
    "print(result)"
   ]
  },
  {
   "cell_type": "code",
   "execution_count": null,
   "metadata": {},
   "outputs": [],
   "source": []
  }
 ],
 "metadata": {
  "kernelspec": {
   "display_name": "Python 3",
   "language": "python",
   "name": "python3"
  },
  "language_info": {
   "codemirror_mode": {
    "name": "ipython",
    "version": 3
   },
   "file_extension": ".py",
   "mimetype": "text/x-python",
   "name": "python",
   "nbconvert_exporter": "python",
   "pygments_lexer": "ipython3",
   "version": "3.8.3"
  }
 },
 "nbformat": 4,
 "nbformat_minor": 4
}
