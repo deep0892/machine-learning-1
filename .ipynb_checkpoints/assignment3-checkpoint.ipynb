{
 "cells": [
  {
   "cell_type": "markdown",
   "metadata": {},
   "source": [
    "# Machine Learning Lab 1"
   ]
  },
  {
   "cell_type": "markdown",
   "metadata": {},
   "source": [
    "## Assignment 3 (Deadline : 29/10/2020 11:59PM)\n",
    "\n",
    "Total Points : 100"
   ]
  },
  {
   "cell_type": "code",
   "execution_count": 1,
   "metadata": {},
   "outputs": [],
   "source": [
    "import numpy as np\n",
    "np.random.seed(42)  # setting random seed for reproducibility"
   ]
  },
  {
   "cell_type": "markdown",
   "metadata": {},
   "source": [
    "### 1. Digit Classification : 8 vs others (40 points)"
   ]
  },
  {
   "cell_type": "code",
   "execution_count": 2,
   "metadata": {},
   "outputs": [],
   "source": [
    "# Import the required libraries\n",
    "%matplotlib inline\n",
    "import numpy as np\n",
    "import pandas as pd\n",
    "import matplotlib.pyplot as plt\n",
    "import matplotlib as mpl\n",
    "from sklearn.metrics import precision_score,recall_score\n",
    "from sklearn.model_selection import cross_val_predict,train_test_split, cross_val_score\n",
    "from sklearn.metrics import confusion_matrix, f1_score, log_loss\n",
    "from sklearn.datasets import load_digits\n",
    "from sklearn.linear_model import LogisticRegression, LogisticRegressionCV"
   ]
  },
  {
   "cell_type": "code",
   "execution_count": 3,
   "metadata": {},
   "outputs": [],
   "source": [
    "# The digits data can be loaded as follows :\n",
    "from sklearn import datasets\n",
    "D = datasets.load_digits()\n",
    "X, y = D[\"data\"], D[\"target\"]"
   ]
  },
  {
   "cell_type": "code",
   "execution_count": 4,
   "metadata": {},
   "outputs": [
    {
     "data": {
      "image/png": "[encoded data removed]",
      "text/plain": [
       "<Figure size 432x288 with 10 Axes>"
      ]
     },
     "metadata": {
      "needs_background": "light"
     },
     "output_type": "display_data"
    }
   ],
   "source": [
    "# Plot a few digits to get a sense of how the data looks like\n",
    "for i in range(10):\n",
    "    a = X[i]\n",
    "    aa = a.reshape(8,8)\n",
    "    plt.subplot(1, 10, i+1)\n",
    "    plt.imshow(aa, cmap = mpl.cm.binary, interpolation=\"nearest\")\n",
    "    plt.axis('off')\n",
    "    plt.title(y[i])\n",
    "\n",
    "plt.show()"
   ]
  },
  {
   "cell_type": "code",
   "execution_count": 5,
   "metadata": {},
   "outputs": [],
   "source": [
    "# Create a 2-class classification problem (digit 8 versus other digits)\n",
    "# 20% for testing and rest for training\n",
    "data_i = np.copy(X)\n",
    "data_o = np.copy(y)\n",
    "for i in range(len(data_o)):\n",
    "    if(data_o[i] == 8):\n",
    "        data_o[i] = 1\n",
    "    else:\n",
    "        data_o[i] = 0\n",
    "\n",
    "# shuffled_indices = np.random.permutation(len(D))\n",
    "# split = int(len(data_i) * 0.8)\n",
    "# train_data_i = data_i[:split]\n",
    "# train_data_o = data_o[:split]\n",
    "# test_data_i = data_i[split:]\n",
    "# test_data_o = data_o[split:]\n",
    "train_data_i, test_data_i, train_data_o, test_data_o = train_test_split(data_i, data_o, test_size=0.20, random_state=42, stratify=data_o)\n",
    "\n"
   ]
  },
  {
   "cell_type": "code",
   "execution_count": 6,
   "metadata": {},
   "outputs": [
    {
     "name": "stdout",
     "output_type": "stream",
     "text": [
      "[0.925      0.94444444 0.94428969 0.94428969 0.92200557]\n"
     ]
    }
   ],
   "source": [
    "# Train a logistic regression model with no regularisation for the problem and obtain the cross validation accuracies\n",
    "\n",
    "clf = LogisticRegression(penalty=\"none\", random_state=42, max_iter=8000, solver=\"saga\")\n",
    "clf.fit(train_data_i, train_data_o)\n",
    "scores = cross_val_score(clf, data_i, data_o, cv=5, scoring=\"accuracy\")\n",
    "print(scores)\n"
   ]
  },
  {
   "cell_type": "code",
   "execution_count": 7,
   "metadata": {},
   "outputs": [
    {
     "data": {
      "image/png": "[encoded data removed]",
      "text/plain": [
       "<Figure size 432x288 with 40 Axes>"
      ]
     },
     "metadata": {
      "needs_background": "light"
     },
     "output_type": "display_data"
    }
   ],
   "source": [
    "# Predict values for the test set using the model obtained above \n",
    "pred = clf.predict(test_data_i)\n",
    "\n",
    "# Plot a few digits to get a sense of how the data looks like\n",
    "for i in range(40):\n",
    "    a = test_data_i[i]\n",
    "    aa = a.reshape(8,8)\n",
    "    plt.subplot(4, 10, i+1)\n",
    "    plt.imshow(aa, cmap = mpl.cm.binary, interpolation=\"nearest\")\n",
    "    plt.axis('off')\n",
    "    plt.title(pred[i])\n",
    "\n",
    "plt.show()"
   ]
  },
  {
   "cell_type": "code",
   "execution_count": 8,
   "metadata": {},
   "outputs": [
    {
     "name": "stdout",
     "output_type": "stream",
     "text": [
      "40.1565932739518\n",
      "[[1565   58]\n",
      " [  57  117]]\n"
     ]
    }
   ],
   "source": [
    "# Obtain all the different performance metrics for the model on the test set\n",
    "calculated_output_prob = clf.predict_proba(test_data_i)\n",
    "loss = log_loss(test_data_o, calculated_output_prob, normalize=False)\n",
    "print(loss)\n",
    "pred = cross_val_predict(clf, data_i, data_o, cv=5)\n",
    "print(confusion_matrix(data_o, pred))"
   ]
  },
  {
   "cell_type": "code",
   "execution_count": 9,
   "metadata": {},
   "outputs": [
    {
     "data": {
      "text/plain": [
       "LogisticRegressionCV(Cs=array([0.0001    , 0.00535789, 0.01061579, 0.01587368, 0.02113158,\n",
       "       0.02638947, 0.03164737, 0.03690526, 0.04216316, 0.04742105,\n",
       "       0.05267895, 0.05793684, 0.06319474, 0.06845263, 0.07371053,\n",
       "       0.07896842, 0.08422632, 0.08948421, 0.09474211, 0.1       ]),\n",
       "                     class_weight=None, cv=None, dual=False, fit_intercept=True,\n",
       "                     intercept_scaling=1.0, l1_ratios=None, max_iter=8000,\n",
       "                     multi_class='auto', n_jobs=None, penalty='l2',\n",
       "                     random_state=42, refit=True, scoring=None, solver='saga',\n",
       "                     tol=0.0001, verbose=0)"
      ]
     },
     "execution_count": 9,
     "metadata": {},
     "output_type": "execute_result"
    }
   ],
   "source": [
    "# Change the hyperparameters of the model and see what effect it has on the model\n",
    "# Find the hyperparameters which maximises the model performance. Choose the right performance metric to evaluate the model\n",
    "# L2 regularisation \n",
    "alphas = np.linspace(0.0001, 0.1, 20)\n",
    "l2_model = LogisticRegressionCV(Cs=alphas, random_state=42,max_iter=8000, solver='saga', penalty='l2')\n",
    "l2_model.fit(train_data_i,train_data_o)"
   ]
  },
  {
   "cell_type": "code",
   "execution_count": 27,
   "metadata": {},
   "outputs": [
    {
     "data": {
      "text/plain": [
       "(array([0.00535789]), 0.9652777777777778, 0.7719298245614035)"
      ]
     },
     "execution_count": 27,
     "metadata": {},
     "output_type": "execute_result"
    }
   ],
   "source": [
    "l2_opt_alpha = l2_model.C_\n",
    "l2_best_train_score = np.max(l2_model.scores_[1][0])\n",
    "l2_test_score = f1_score(l2_model.predict(test_data_i),test_data_o)\n",
    "l2_opt_alpha,l2_best_train_score,l2_test_score"
   ]
  },
  {
   "cell_type": "code",
   "execution_count": 13,
   "metadata": {},
   "outputs": [
    {
     "data": {
      "text/plain": [
       "LogisticRegressionCV(Cs=array([0.01      , 0.03020408, 0.05040816, 0.07061224, 0.09081633,\n",
       "       0.11102041, 0.13122449, 0.15142857, 0.17163265, 0.19183673,\n",
       "       0.21204082, 0.2322449 , 0.25244898, 0.27265306, 0.29285714,\n",
       "       0.31306122, 0.33326531, 0.35346939, 0.37367347, 0.39387755,\n",
       "       0.41408163, 0.43428571, 0.4544898 , 0.47469388, 0.49489796,\n",
       "       0.51510204, 0.53530612, 0.5555102 , 0.57571429, 0.5959183...\n",
       "       0.71714286, 0.73734694, 0.75755102, 0.7777551 , 0.79795918,\n",
       "       0.81816327, 0.83836735, 0.85857143, 0.87877551, 0.89897959,\n",
       "       0.91918367, 0.93938776, 0.95959184, 0.97979592, 1.        ]),\n",
       "                     class_weight=None, cv=None, dual=False, fit_intercept=True,\n",
       "                     intercept_scaling=1.0, l1_ratios=None, max_iter=8000,\n",
       "                     multi_class='auto', n_jobs=None, penalty='l1',\n",
       "                     random_state=42, refit=True, scoring=None, solver='saga',\n",
       "                     tol=0.0001, verbose=0)"
      ]
     },
     "execution_count": 13,
     "metadata": {},
     "output_type": "execute_result"
    }
   ],
   "source": [
    "# L1 regularisation \n",
    "alphas = np.linspace(0.01, 1, 50)\n",
    "l1_model = LogisticRegressionCV(Cs=alphas, random_state=42,max_iter=8000, solver='saga', penalty='l1')\n",
    "l1_model.fit(train_data_i,train_data_o)"
   ]
  },
  {
   "cell_type": "code",
   "execution_count": 26,
   "metadata": {},
   "outputs": [
    {
     "data": {
      "text/plain": [
       "(array([0.71714286]), 0.9722222222222222, 0.8125)"
      ]
     },
     "execution_count": 26,
     "metadata": {},
     "output_type": "execute_result"
    }
   ],
   "source": [
    "l1_opt_alpha = l1_model.C_\n",
    "l1_best_train_score = np.max(l1_model.scores_[1][0])\n",
    "l1_test_score = f1_score(l1_model.predict(test_data_i),test_data_o)\n",
    "l1_opt_alpha, l1_best_train_score, l1_test_score"
   ]
  },
  {
   "cell_type": "code",
   "execution_count": 18,
   "metadata": {},
   "outputs": [
    {
     "data": {
      "text/plain": [
       "LogisticRegressionCV(Cs=array([0.001, 0.112, 0.223, 0.334, 0.445, 0.556, 0.667, 0.778, 0.889,\n",
       "       1.   ]),\n",
       "                     class_weight=None, cv=None, dual=False, fit_intercept=True,\n",
       "                     intercept_scaling=1.0,\n",
       "                     l1_ratios=array([1. , 0.9, 0.5, 0.3, 0.1]), max_iter=8000,\n",
       "                     multi_class='auto', n_jobs=None, penalty='elasticnet',\n",
       "                     random_state=42, refit=True, scoring=None, solver='saga',\n",
       "                     tol=0.0001, verbose=0)"
      ]
     },
     "execution_count": 18,
     "metadata": {},
     "output_type": "execute_result"
    }
   ],
   "source": [
    "# L1 regularisation \n",
    "alphas = np.linspace(0.001, 1, 10)\n",
    "l1_ratios =  np.array([1, 0.9, 0.5, 0.3, 0.1])\n",
    "elastic_model = LogisticRegressionCV(Cs=alphas, random_state=42,max_iter=8000, solver='saga', penalty='elasticnet', l1_ratios=l1_ratios)\n",
    "elastic_model.fit(train_data_i,train_data_o)"
   ]
  },
  {
   "cell_type": "code",
   "execution_count": 25,
   "metadata": {},
   "outputs": [
    {
     "data": {
      "text/plain": [
       "(array([0.71714286]), 0.9618055555555556, 0.7741935483870968, array([0.3]))"
      ]
     },
     "execution_count": 25,
     "metadata": {},
     "output_type": "execute_result"
    }
   ],
   "source": [
    "elastic_opt_alpha = l1_model.C_\n",
    "elastic_best_train_score = np.max(elastic_model.scores_[1][0])\n",
    "elastic_test_score = f1_score(elastic_model.predict(test_data_i),test_data_o)\n",
    "elastic_opt_alpha, elastic_best_train_score, elastic_test_score, elastic_model.l1_ratio_"
   ]
  },
  {
   "cell_type": "code",
   "execution_count": null,
   "metadata": {},
   "outputs": [],
   "source": []
  },
  {
   "cell_type": "markdown",
   "metadata": {},
   "source": [
    "### 2. California Housing Prices (60 points)\n",
    "\n",
    "In this problem, we will take the same California Housing prices dataset that was shown in the last lab class to do a binary classification of whether the median house value for a given locality is high or low ."
   ]
  },
  {
   "cell_type": "code",
   "execution_count": 23,
   "metadata": {},
   "outputs": [],
   "source": [
    "# Get the data from the website to the local directory\n",
    "\n",
    "import os\n",
    "import tarfile\n",
    "from six.moves import urllib\n",
    "\n",
    "source_path = \"https://raw.githubusercontent.com/ageron/handson-ml/master/datasets/housing/housing.tgz\"\n",
    "local_path = os.path.join(\"datasets\", \"housing\")\n",
    "\n",
    "os.makedirs(local_path, exist_ok=True)\n",
    "tgz_path = os.path.join(local_path, \"housing.tgz\")\n",
    "\n",
    "urllib.request.urlretrieve(source_path, tgz_path)\n",
    "housing_tgz = tarfile.open(tgz_path)\n",
    "housing_tgz.extractall(path=local_path)\n",
    "housing_tgz.close()"
   ]
  },
  {
   "cell_type": "code",
   "execution_count": 11,
   "metadata": {},
   "outputs": [],
   "source": [
    "# Read the data into a dataframe\n",
    "\n",
    "\n"
   ]
  },
  {
   "cell_type": "code",
   "execution_count": 12,
   "metadata": {},
   "outputs": [],
   "source": [
    "# Explore the data to understand it better\n",
    "\n",
    "\n"
   ]
  },
  {
   "cell_type": "code",
   "execution_count": 13,
   "metadata": {},
   "outputs": [],
   "source": [
    "# Convert the data to suit a binary classification of High Price vs Low Price for the median_house_value column\n",
    "# Assume that anything >= $200,000 is high price with output value 1 and anything less than that is low price with output value 0.\n",
    "\n",
    "\n"
   ]
  },
  {
   "cell_type": "code",
   "execution_count": 14,
   "metadata": {},
   "outputs": [],
   "source": [
    "# Use stratified sampling to create an 80-20 train-test split\n",
    "\n",
    "\n"
   ]
  },
  {
   "cell_type": "code",
   "execution_count": 15,
   "metadata": {},
   "outputs": [],
   "source": [
    "# Find the best Logistic Regression model that can solve this problem\n",
    "\n",
    "\n"
   ]
  }
 ],
 "metadata": {
  "kernelspec": {
   "display_name": "Python 3",
   "language": "python",
   "name": "python3"
  },
  "language_info": {
   "codemirror_mode": {
    "name": "ipython",
    "version": 3
   },
   "file_extension": ".py",
   "mimetype": "text/x-python",
   "name": "python",
   "nbconvert_exporter": "python",
   "pygments_lexer": "ipython3",
   "version": "3.7.6"
  }
 },
 "nbformat": 4,
 "nbformat_minor": 4
}
