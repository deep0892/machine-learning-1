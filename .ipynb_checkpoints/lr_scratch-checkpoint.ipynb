{
 "cells": [
  {
   "cell_type": "code",
   "execution_count": 1,
   "metadata": {},
   "outputs": [],
   "source": [
    "# Linear regression using Pseudo Inverse and Iterative method. Written simply to illustrate. Assumes a single output\n",
    "# Written specifically in a simplistic way for clarity\n",
    "\n",
    "import numpy as np\n",
    "import matplotlib.pyplot as plt"
   ]
  },
  {
   "cell_type": "code",
   "execution_count": 2,
   "metadata": {},
   "outputs": [],
   "source": [
    "# Read data from a file. We assume that the first row has the number of inputs and number of outputs specified\n",
    "\n",
    "datafile = \"sampledata.txt\"\n",
    "\n",
    "f = open(datafile, 'r')\n",
    "line = f.readline()\n",
    "t = line.split()\n",
    "f.close()\n",
    "\n",
    "nInput = int(t[0])\n",
    "nOutput = int(t[1])\n",
    "\n",
    "if(nOutput != 1):\n",
    "    raise SystemExit(\"Sorry. Illustration program. Requires a single output!\")"
   ]
  },
  {
   "cell_type": "code",
   "execution_count": 3,
   "metadata": {},
   "outputs": [],
   "source": [
    "# Read in the data and separate in to input and desired output\n",
    "\n",
    "data = np.loadtxt(datafile, skiprows=1)\n",
    "trainI = data[:,0:nInput]\n",
    "trainO = data[:,nInput:]\n",
    "trainS = trainI.shape[0]"
   ]
  },
  {
   "cell_type": "code",
   "execution_count": 4,
   "metadata": {},
   "outputs": [],
   "source": [
    "# Add a bias input\n",
    "\n",
    "trainI = np.insert(trainI, 0, values=np.ones((trainI.shape[0]), dtype=trainI.dtype), axis = 1)\n",
    "nInput = nInput + 1"
   ]
  },
  {
   "cell_type": "code",
   "execution_count": 5,
   "metadata": {},
   "outputs": [],
   "source": [
    "# Pseudo inverse solution\n",
    "\n",
    "A = np.linalg.inv(np.dot(trainI.transpose(), trainI))\n",
    "B = np.dot(A, trainI.transpose())\n",
    "W = np.dot(B, trainO)"
   ]
  },
  {
   "cell_type": "code",
   "execution_count": 6,
   "metadata": {},
   "outputs": [
    {
     "data": {
      "text/plain": [
       "array([[ 4.96],\n",
       "       [ 6.97],\n",
       "       [ 8.98],\n",
       "       [10.99],\n",
       "       [13.  ]])"
      ]
     },
     "execution_count": 6,
     "metadata": {},
     "output_type": "execute_result"
    }
   ],
   "source": [
    "# Try it out\n",
    "\n",
    "np.dot(trainI, W)"
   ]
  },
  {
   "cell_type": "code",
   "execution_count": 7,
   "metadata": {},
   "outputs": [],
   "source": [
    "# Could also caculate pinv directly\n",
    "\n",
    "W = np.linalg.pinv(trainI)"
   ]
  },
  {
   "cell_type": "code",
   "execution_count": 8,
   "metadata": {},
   "outputs": [],
   "source": [
    "# Define a forward pass\n",
    "\n",
    "def forwardPass(weights, x):\n",
    "    a = np.dot(weights, x)\n",
    "    return(a)"
   ]
  },
  {
   "cell_type": "code",
   "execution_count": 9,
   "metadata": {},
   "outputs": [],
   "source": [
    "# Find the error over the training data\n",
    "\n",
    "def computeSSE(trainI, trainO, weights):\n",
    "    trainE = 0.0\n",
    "    for l in range(trainS):\n",
    "        a = forwardPass(weights, trainI[l,:])\n",
    "        b = a - trainO[l,:]\n",
    "        trainE = trainE + np.dot(b, b)\n",
    "\n",
    "    return(trainE)"
   ]
  },
  {
   "cell_type": "code",
   "execution_count": 10,
   "metadata": {},
   "outputs": [],
   "source": [
    "weights = np.random.rand(nOutput, nInput) - 0.5"
   ]
  },
  {
   "cell_type": "code",
   "execution_count": 11,
   "metadata": {
    "scrolled": true
   },
   "outputs": [],
   "source": [
    "# Keep iterating until the desired error is less than desired or the maximum number of epochs have reached\n",
    "\n",
    "e = 1\n",
    "epochs = 0\n",
    "eta = 0.01\n",
    "traceE = np.array([])\n",
    "Deltaw = np.empty_like(weights)\n",
    "\n",
    "while (e > 0.001) and (epochs < 1000):\n",
    "    a = computeSSE(trainI, trainO, weights)\n",
    "    traceE = np.append(traceE, np.array([a]))\n",
    "    epochs = epochs + 1\n",
    "    \n",
    "    Deltaw = Deltaw * 0.0\n",
    "    for l in range(trainS):\n",
    "        a = forwardPass(weights, trainI[l,:])\n",
    "        \n",
    "        for k in range(nInput):\n",
    "            Deltaw[0,k] = Deltaw[0,k] + (trainO[l,0] - a[0]) * trainI[l,k]\n",
    "            \n",
    "    for k in range(nInput):\n",
    "        weights[0,k] = weights[0,k] + (eta/trainS) * Deltaw[0,k]"
   ]
  },
  {
   "cell_type": "code",
   "execution_count": 12,
   "metadata": {},
   "outputs": [
    {
     "data": {
      "text/plain": [
       "[<matplotlib.lines.Line2D at 0x15acd40d0>]"
      ]
     },
     "execution_count": 12,
     "metadata": {},
     "output_type": "execute_result"
    },
    {
     "data": {
      "image/png": "[encoded data removed]",
      "text/plain": [
       "<Figure size 432x288 with 1 Axes>"
      ]
     },
     "metadata": {
      "needs_background": "light"
     },
     "output_type": "display_data"
    }
   ],
   "source": [
    "plt.plot(traceE)"
   ]
  },
  {
   "cell_type": "code",
   "execution_count": 13,
   "metadata": {},
   "outputs": [
    {
     "name": "stdout",
     "output_type": "stream",
     "text": [
      ">>  [5.1] [4.66811958]\n",
      ">>  [6.8] [6.78993756]\n",
      ">>  [9.1] [8.91175555]\n",
      ">>  [10.7] [11.03357353]\n",
      ">>  [13.2] [13.15539152]\n"
     ]
    }
   ],
   "source": [
    "# Write out the desired output against the actual output\n",
    "\n",
    "for l in range(trainS):\n",
    "    a = forwardPass(weights, trainI[l,:])\n",
    "    print(\">> \", trainO[l,:], a)"
   ]
  },
  {
   "cell_type": "code",
   "execution_count": 14,
   "metadata": {},
   "outputs": [
    {
     "name": "stdout",
     "output_type": "stream",
     "text": [
      ">>  [5.1] [4.66811958]\n",
      ">>  [6.8] [6.78993756]\n",
      ">>  [9.1] [8.91175555]\n",
      ">>  [10.7] [11.03357353]\n",
      ">>  [13.2] [13.15539152]\n"
     ]
    },
    {
     "data": {
      "text/plain": [
       "[<matplotlib.lines.Line2D at 0x15ae11fd0>]"
      ]
     },
     "execution_count": 14,
     "metadata": {},
     "output_type": "execute_result"
    },
    {
     "data": {
      "image/png": "[encoded data removed]",
      "text/plain": [
       "<Figure size 432x288 with 1 Axes>"
      ]
     },
     "metadata": {
      "needs_background": "light"
     },
     "output_type": "display_data"
    }
   ],
   "source": [
    "# Draw out the line\n",
    "\n",
    "ActualOutput = np.empty_like(trainO)\n",
    "\n",
    "for l in range(trainS):\n",
    "    a = forwardPass(weights, trainI[l,:])\n",
    "    print(\">> \", trainO[l,:], a)\n",
    "    ActualOutput[l] = a\n",
    "    \n",
    "plt.plot(trainI[:,1], trainO[:,0], 'b+')\n",
    "plt.plot(trainI[:,1], ActualOutput, 'ro')\n",
    "\n"
   ]
  },
  {
   "cell_type": "code",
   "execution_count": null,
   "metadata": {},
   "outputs": [],
   "source": []
  }
 ],
 "metadata": {
  "kernelspec": {
   "display_name": "Python 3",
   "language": "python",
   "name": "python3"
  },
  "language_info": {
   "codemirror_mode": {
    "name": "ipython",
    "version": 3
   },
   "file_extension": ".py",
   "mimetype": "text/x-python",
   "name": "python",
   "nbconvert_exporter": "python",
   "pygments_lexer": "ipython3",
   "version": "3.7.8"
  }
 },
 "nbformat": 4,
 "nbformat_minor": 4
}
