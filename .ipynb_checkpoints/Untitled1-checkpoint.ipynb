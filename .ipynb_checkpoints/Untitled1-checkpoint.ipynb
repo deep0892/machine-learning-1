{
 "cells": [
  {
   "cell_type": "code",
   "execution_count": 3,
   "metadata": {},
   "outputs": [],
   "source": [
    "# Linear regression using Pseudo Inverse and Iterative method. Written simply to illustrate. Assumes a single output\n",
    "# Written specifically in a simplistic way for clarity\n",
    "\n",
    "import numpy as np\n",
    "import matplotlib.pyplot as plt"
   ]
  },
  {
   "cell_type": "code",
   "execution_count": null,
   "metadata": {},
   "outputs": [],
   "source": [
    "data = np.loadtxt('testdata.txt', skiprows=1)\n",
    "trainI = data[:,0:nInput]\n",
    "trainO = data[:,nInput:]\n",
    "trainS = trainI.shape[0]"
   ]
  },
  {
   "cell_type": "code",
   "execution_count": 2,
   "metadata": {},
   "outputs": [],
   "source": [
    "# Define a forward pass\n",
    "#N=no of pattern sets\n",
    "#n=no of input in each set;x\n",
    "#m=no. of output in each pattern set;y\n",
    "def forwardPass(weights, x):#Weights = {m,n},x={n,1}\n",
    "    a = np.dot(weights, x)\n",
    "    return(a)#{m,1}"
   ]
  },
  {
   "cell_type": "code",
   "execution_count": 5,
   "metadata": {},
   "outputs": [],
   "source": [
    "# Find the error over the training data\n",
    "#trainI={N,n}\n",
    "#trainO={N,m}\n",
    "def computeSSE(trainI, trainO, weights):\n",
    "    trainE = 0.0\n",
    "    for l in range(trainS):\n",
    "        a = forwardPass(weights, trainI[l,:])\n",
    "        b = a - trainO[l,:] #b={m,1}\n",
    "        trainE = trainE + np.dot(b, b)\n",
    "    return(trainE)"
   ]
  },
  {
   "cell_type": "code",
   "execution_count": null,
   "metadata": {},
   "outputs": [],
   "source": [
    "weights = np.random.rand(nOutput, nInput) - 0.5\n",
    "e = 1\n",
    "epochs = 0\n",
    "eta = 0.01\n",
    "traceE = np.array([])\n",
    "Deltaw = np.empty_like(weights)\n",
    "\n",
    "while (e > 0.001) and (epochs < 1000):\n",
    "    e = computeSSE(trainI, trainO, weights)\n",
    "    traceE = np.append(traceE, np.array([e]))\n",
    "    epochs = epochs + 1\n",
    "    \n",
    "    Deltaw = Deltaw * 0.0\n",
    "    for L in range(trainS):\n",
    "        a = forwardPass(weights, trainI[l,:])#correct\n",
    "        \n",
    "        for m in range(nOutput):\n",
    "            for n in range(nInput):#nInput=n #no of features\n",
    "                Deltaw[m,n] = Deltaw[m,n] + (trainO[L,m] - a[m]) * trainI[l,n] \n",
    "    for m in range(nOutput):        \n",
    "        for n in range(nInput):\n",
    "            weights[m,n] = weights[m,n] + (eta/trainS) * Deltaw[m,n]"
   ]
  }
 ],
 "metadata": {
  "kernelspec": {
   "display_name": "Python 3",
   "language": "python",
   "name": "python3"
  },
  "language_info": {
   "codemirror_mode": {
    "name": "ipython",
    "version": 3
   },
   "file_extension": ".py",
   "mimetype": "text/x-python",
   "name": "python",
   "nbconvert_exporter": "python",
   "pygments_lexer": "ipython3",
   "version": "3.7.6"
  }
 },
 "nbformat": 4,
 "nbformat_minor": 4
}
